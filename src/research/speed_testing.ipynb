{
 "cells": [
  {
   "cell_type": "markdown",
   "metadata": {},
   "source": [
    "# Speed testing\n",
    "\n",
    "Purpose of this Notebook is to test the speed of different packages/functions\n",
    "to achieve a fast simulation process\n",
    "\n",
    "---"
   ]
  },
  {
   "cell_type": "markdown",
   "metadata": {},
   "source": [
    "\n",
    "### Networkit vs Netowrkx vs Graph Tool\n",
    "\n",
    "The purpose is to test which methods from networkx or networkit or graph tool are faster \n",
    "to ensure optimal coding experience"
   ]
  },
  {
   "cell_type": "code",
   "execution_count": 6,
   "metadata": {},
   "outputs": [],
   "source": [
    "\"\"\"Import necessary packages.\"\"\"\n",
    "import itertools\n",
    "import os\n",
    "import sys\n",
    "\n",
    "import graph_tool.all as gt\n",
    "import networkit as nk\n",
    "import networkx as nx\n",
    "import numpy as np\n",
    "\n",
    "# Get directory first\n",
    "path = os.getcwd()\n",
    "par_dir = os.path.abspath(os.path.join(path, \"../\"))\n",
    "# Import own module\n",
    "sys.path.append(par_dir)\n",
    "if True:\n",
    "    from utils.graph_converter import NetworkConverter"
   ]
  },
  {
   "cell_type": "markdown",
   "metadata": {},
   "source": [
    "---\n",
    "\n",
    "Random Graph Speed Test"
   ]
  },
  {
   "cell_type": "code",
   "execution_count": 10,
   "metadata": {},
   "outputs": [
    {
     "name": "stdout",
     "output_type": "stream",
     "text": [
      "Networkx:\n",
      "134 ms ± 3.09 ms per loop (mean ± std. dev. of 7 runs, 10 loops each)\n",
      "Network Properties:\n",
      "nodes, edges\t\t\t1000, 150195\n",
      "directed?\t\t\tFalse\n",
      "weighted?\t\t\tFalse\n",
      "isolated nodes\t\t\t0\n",
      "self-loops\t\t\t0\n",
      "density\t\t\t\t0.300691\n",
      "clustering coefficient\t\t0.300785\n",
      "min/max/avg degree\t\t257, 343, 300.390000\n",
      "degree assortativity\t\t-0.005037\n",
      "number of connected components\t1\n",
      "size of largest component\t1000 (100.00 %)\n",
      "\n",
      "Networkit:\n",
      "2.45 ms ± 52.8 µs per loop (mean ± std. dev. of 7 runs, 100 loops each)\n",
      "Network Properties:\n",
      "nodes, edges\t\t\t1000, 149343\n",
      "directed?\t\t\tFalse\n",
      "weighted?\t\t\tFalse\n",
      "isolated nodes\t\t\t0\n",
      "self-loops\t\t\t0\n",
      "density\t\t\t\t0.298985\n",
      "clustering coefficient\t\t0.299122\n",
      "min/max/avg degree\t\t249, 341, 298.686000\n",
      "degree assortativity\t\t0.000588\n",
      "number of connected components\t1\n",
      "size of largest component\t1000 (100.00 %)\n",
      "\n",
      "Graph Tool:\n",
      "26.3 ms ± 267 µs per loop (mean ± std. dev. of 7 runs, 10 loops each)\n"
     ]
    }
   ],
   "source": [
    "\"\"\"Testing random graph speed.\"\"\"\n",
    "n_nodes = 1000\n",
    "prob = 0.3\n",
    "\n",
    "print(\"Networkx:\")\n",
    "%timeit nx.erdos_renyi_graph(n=n_nodes, p=prob)\n",
    "nk.overview(nk.nxadapter.nx2nk(nx.erdos_renyi_graph(n=n_nodes, p=prob)))\n",
    "\n",
    "print(\"\\nNetworkit:\")\n",
    "%timeit nk.generators.ErdosRenyiGenerator(n_nodes, prob).generate()\n",
    "nk.overview(nk.generators.ErdosRenyiGenerator(n_nodes, prob).generate())\n",
    "\n",
    "\n",
    "print(\"\\nGraph Tool:\")\n",
    "\n",
    "\n",
    "def sample_k(max):\n",
    "    \"\"\"Sample example.\"\"\"\n",
    "    accept = False\n",
    "    while not accept:\n",
    "        k = np.random.randint(1, max + 1)\n",
    "        accept = np.random.random() < 1.0 / k\n",
    "    return k\n",
    "\n",
    "\n",
    "%timeit gt.random_graph(N=n_nodes, deg_sampler= lambda: sample_k(40), directed=False)\n",
    "graph = gt.random_graph(N=n_nodes, deg_sampler=lambda: sample_k(40), directed=False)"
   ]
  },
  {
   "cell_type": "markdown",
   "metadata": {},
   "source": [
    "---\n",
    "\n",
    "Barabasi-Albert Speed Test\n"
   ]
  },
  {
   "cell_type": "code",
   "execution_count": 11,
   "metadata": {},
   "outputs": [
    {
     "name": "stdout",
     "output_type": "stream",
     "text": [
      "Networkx:\n",
      "4.19 ms ± 9.96 µs per loop (mean ± std. dev. of 7 runs, 100 loops each)\n",
      "Network Properties:\n",
      "nodes, edges\t\t\t1000, 2991\n",
      "directed?\t\t\tFalse\n",
      "weighted?\t\t\tFalse\n",
      "isolated nodes\t\t\t0\n",
      "self-loops\t\t\t0\n",
      "density\t\t\t\t0.005988\n",
      "clustering coefficient\t\t0.027347\n",
      "min/max/avg degree\t\t2, 85, 5.982000\n",
      "degree assortativity\t\t0.304154\n",
      "number of connected components\t1\n",
      "size of largest component\t1000 (100.00 %)\n",
      "\n",
      "Networkit:\n",
      "115 µs ± 309 ns per loop (mean ± std. dev. of 7 runs, 10,000 loops each)\n",
      "Network Properties:\n",
      "nodes, edges\t\t\t1000, 2994\n",
      "directed?\t\t\tFalse\n",
      "weighted?\t\t\tFalse\n",
      "isolated nodes\t\t\t0\n",
      "self-loops\t\t\t0\n",
      "density\t\t\t\t0.005994\n",
      "clustering coefficient\t\t0.032660\n",
      "min/max/avg degree\t\t3, 97, 5.988000\n",
      "degree assortativity\t\t0.291063\n",
      "number of connected components\t1\n",
      "size of largest component\t1000 (100.00 %)\n"
     ]
    }
   ],
   "source": [
    "\"\"\"Testing Barabasi-speed test.\"\"\"\n",
    "n_nodes = 1000\n",
    "n_edges = 3\n",
    "\n",
    "print(\"Networkx:\")\n",
    "%timeit nx.barabasi_albert_graph(n=n_nodes, m=n_edges)\n",
    "nk.overview(nk.nxadapter.nx2nk(nx.barabasi_albert_graph(n=n_nodes, m=n_edges)))\n",
    "\n",
    "print(\"\\nNetworkit:\")\n",
    "%timeit nk.generators.BarabasiAlbertGenerator(k=n_edges,nMax=n_nodes).generate()\n",
    "nk.overview(nk.generators.BarabasiAlbertGenerator(k=n_edges, nMax=n_nodes).generate())"
   ]
  },
  {
   "cell_type": "markdown",
   "metadata": {},
   "source": [
    "\n",
    "---\n",
    "Coversion Speed Test"
   ]
  },
  {
   "cell_type": "code",
   "execution_count": 11,
   "metadata": {},
   "outputs": [
    {
     "name": "stdout",
     "output_type": "stream",
     "text": [
      "\n",
      "Networkx to Networkit:\n",
      "35.6 ms ± 99.5 µs per loop (mean ± std. dev. of 7 runs, 10 loops each)\n",
      "\n",
      "Networkit to Networkx:\n",
      "118 ms ± 707 µs per loop (mean ± std. dev. of 7 runs, 10 loops each)\n",
      "\n",
      "Networkx to Graph_tool:\n",
      "546 ms ± 4.69 ms per loop (mean ± std. dev. of 7 runs, 1 loop each)\n",
      "\n",
      "Graph_tool to Networkx:\n"
     ]
    },
    {
     "name": "stderr",
     "output_type": "stream",
     "text": [
      "WARNING:asyncio:labelname should be set to 'id'!\n",
      "WARNING:asyncio:labelname should be set to 'id'!\n",
      "WARNING:asyncio:labelname should be set to 'id'!\n",
      "WARNING:asyncio:labelname should be set to 'id'!\n",
      "WARNING:asyncio:labelname should be set to 'id'!\n",
      "WARNING:asyncio:labelname should be set to 'id'!\n",
      "WARNING:asyncio:labelname should be set to 'id'!\n",
      "WARNING:asyncio:labelname should be set to 'id'!\n"
     ]
    },
    {
     "name": "stdout",
     "output_type": "stream",
     "text": [
      "543 ms ± 2.99 ms per loop (mean ± std. dev. of 7 runs, 1 loop each)\n",
      "\n",
      "Graph_tool to Networkit:\n"
     ]
    },
    {
     "ename": "AttributeError",
     "evalue": "type object 'graph_converter_c.NetworkConverter' has no attribute 'gt_to_nk'",
     "output_type": "error",
     "traceback": [
      "\u001b[0;31m---------------------------------------------------------------------------\u001b[0m",
      "\u001b[0;31mAttributeError\u001b[0m                            Traceback (most recent call last)",
      "\u001b[1;32m/home/louis/git/criminal_network_analysis/src/research/speed_testing.ipynb Cell 9'\u001b[0m in \u001b[0;36m<module>\u001b[0;34m\u001b[0m\n\u001b[1;32m     <a href='vscode-notebook-cell:/home/louis/git/criminal_network_analysis/src/research/speed_testing.ipynb#ch0000008?line=18'>19</a>\u001b[0m get_ipython()\u001b[39m.\u001b[39mrun_line_magic(\u001b[39m'\u001b[39m\u001b[39mtimeit\u001b[39m\u001b[39m'\u001b[39m, \u001b[39m'\u001b[39m\u001b[39mNetworkConverter.gt_to_nx(gt_graph)\u001b[39m\u001b[39m'\u001b[39m)\n\u001b[1;32m     <a href='vscode-notebook-cell:/home/louis/git/criminal_network_analysis/src/research/speed_testing.ipynb#ch0000008?line=20'>21</a>\u001b[0m \u001b[39mprint\u001b[39m(\u001b[39m\"\u001b[39m\u001b[39m\\n\u001b[39;00m\u001b[39mGraph_tool to Networkit:\u001b[39m\u001b[39m\"\u001b[39m)\n\u001b[0;32m---> <a href='vscode-notebook-cell:/home/louis/git/criminal_network_analysis/src/research/speed_testing.ipynb#ch0000008?line=21'>22</a>\u001b[0m get_ipython()\u001b[39m.\u001b[39;49mrun_line_magic(\u001b[39m'\u001b[39;49m\u001b[39mtimeit\u001b[39;49m\u001b[39m'\u001b[39;49m, \u001b[39m'\u001b[39;49m\u001b[39mNetworkConverter.gt_to_nk(gt_graph)\u001b[39;49m\u001b[39m'\u001b[39;49m)\n\u001b[1;32m     <a href='vscode-notebook-cell:/home/louis/git/criminal_network_analysis/src/research/speed_testing.ipynb#ch0000008?line=23'>24</a>\u001b[0m \u001b[39mprint\u001b[39m(\u001b[39m\"\u001b[39m\u001b[39m\\n\u001b[39;00m\u001b[39mNeworkit to Graph_tool:\u001b[39m\u001b[39m\"\u001b[39m)\n\u001b[1;32m     <a href='vscode-notebook-cell:/home/louis/git/criminal_network_analysis/src/research/speed_testing.ipynb#ch0000008?line=24'>25</a>\u001b[0m get_ipython()\u001b[39m.\u001b[39mrun_line_magic(\u001b[39m'\u001b[39m\u001b[39mtimeit\u001b[39m\u001b[39m'\u001b[39m, \u001b[39m'\u001b[39m\u001b[39mNetworkConverter.nk_to_gt(nk_graph)\u001b[39m\u001b[39m'\u001b[39m)\n",
      "File \u001b[0;32m~/.local/share/virtualenvs/criminal_network_analysis-7tqkjw2s/lib/python3.8/site-packages/IPython/core/interactiveshell.py:2204\u001b[0m, in \u001b[0;36mInteractiveShell.run_line_magic\u001b[0;34m(self, magic_name, line, _stack_depth)\u001b[0m\n\u001b[1;32m   <a href='file:///home/louis/.local/share/virtualenvs/criminal_network_analysis-7tqkjw2s/lib/python3.8/site-packages/IPython/core/interactiveshell.py?line=2201'>2202</a>\u001b[0m     kwargs[\u001b[39m'\u001b[39m\u001b[39mlocal_ns\u001b[39m\u001b[39m'\u001b[39m] \u001b[39m=\u001b[39m \u001b[39mself\u001b[39m\u001b[39m.\u001b[39mget_local_scope(stack_depth)\n\u001b[1;32m   <a href='file:///home/louis/.local/share/virtualenvs/criminal_network_analysis-7tqkjw2s/lib/python3.8/site-packages/IPython/core/interactiveshell.py?line=2202'>2203</a>\u001b[0m \u001b[39mwith\u001b[39;00m \u001b[39mself\u001b[39m\u001b[39m.\u001b[39mbuiltin_trap:\n\u001b[0;32m-> <a href='file:///home/louis/.local/share/virtualenvs/criminal_network_analysis-7tqkjw2s/lib/python3.8/site-packages/IPython/core/interactiveshell.py?line=2203'>2204</a>\u001b[0m     result \u001b[39m=\u001b[39m fn(\u001b[39m*\u001b[39;49margs, \u001b[39m*\u001b[39;49m\u001b[39m*\u001b[39;49mkwargs)\n\u001b[1;32m   <a href='file:///home/louis/.local/share/virtualenvs/criminal_network_analysis-7tqkjw2s/lib/python3.8/site-packages/IPython/core/interactiveshell.py?line=2204'>2205</a>\u001b[0m \u001b[39mreturn\u001b[39;00m result\n",
      "File \u001b[0;32m~/.local/share/virtualenvs/criminal_network_analysis-7tqkjw2s/lib/python3.8/site-packages/IPython/core/magics/execution.py:1162\u001b[0m, in \u001b[0;36mExecutionMagics.timeit\u001b[0;34m(self, line, cell, local_ns)\u001b[0m\n\u001b[1;32m   <a href='file:///home/louis/.local/share/virtualenvs/criminal_network_analysis-7tqkjw2s/lib/python3.8/site-packages/IPython/core/magics/execution.py?line=1159'>1160</a>\u001b[0m \u001b[39mfor\u001b[39;00m index \u001b[39min\u001b[39;00m \u001b[39mrange\u001b[39m(\u001b[39m0\u001b[39m, \u001b[39m10\u001b[39m):\n\u001b[1;32m   <a href='file:///home/louis/.local/share/virtualenvs/criminal_network_analysis-7tqkjw2s/lib/python3.8/site-packages/IPython/core/magics/execution.py?line=1160'>1161</a>\u001b[0m     number \u001b[39m=\u001b[39m \u001b[39m10\u001b[39m \u001b[39m*\u001b[39m\u001b[39m*\u001b[39m index\n\u001b[0;32m-> <a href='file:///home/louis/.local/share/virtualenvs/criminal_network_analysis-7tqkjw2s/lib/python3.8/site-packages/IPython/core/magics/execution.py?line=1161'>1162</a>\u001b[0m     time_number \u001b[39m=\u001b[39m timer\u001b[39m.\u001b[39;49mtimeit(number)\n\u001b[1;32m   <a href='file:///home/louis/.local/share/virtualenvs/criminal_network_analysis-7tqkjw2s/lib/python3.8/site-packages/IPython/core/magics/execution.py?line=1162'>1163</a>\u001b[0m     \u001b[39mif\u001b[39;00m time_number \u001b[39m>\u001b[39m\u001b[39m=\u001b[39m \u001b[39m0.2\u001b[39m:\n\u001b[1;32m   <a href='file:///home/louis/.local/share/virtualenvs/criminal_network_analysis-7tqkjw2s/lib/python3.8/site-packages/IPython/core/magics/execution.py?line=1163'>1164</a>\u001b[0m         \u001b[39mbreak\u001b[39;00m\n",
      "File \u001b[0;32m~/.local/share/virtualenvs/criminal_network_analysis-7tqkjw2s/lib/python3.8/site-packages/IPython/core/magics/execution.py:156\u001b[0m, in \u001b[0;36mTimer.timeit\u001b[0;34m(self, number)\u001b[0m\n\u001b[1;32m    <a href='file:///home/louis/.local/share/virtualenvs/criminal_network_analysis-7tqkjw2s/lib/python3.8/site-packages/IPython/core/magics/execution.py?line=153'>154</a>\u001b[0m gc\u001b[39m.\u001b[39mdisable()\n\u001b[1;32m    <a href='file:///home/louis/.local/share/virtualenvs/criminal_network_analysis-7tqkjw2s/lib/python3.8/site-packages/IPython/core/magics/execution.py?line=154'>155</a>\u001b[0m \u001b[39mtry\u001b[39;00m:\n\u001b[0;32m--> <a href='file:///home/louis/.local/share/virtualenvs/criminal_network_analysis-7tqkjw2s/lib/python3.8/site-packages/IPython/core/magics/execution.py?line=155'>156</a>\u001b[0m     timing \u001b[39m=\u001b[39m \u001b[39mself\u001b[39;49m\u001b[39m.\u001b[39;49minner(it, \u001b[39mself\u001b[39;49m\u001b[39m.\u001b[39;49mtimer)\n\u001b[1;32m    <a href='file:///home/louis/.local/share/virtualenvs/criminal_network_analysis-7tqkjw2s/lib/python3.8/site-packages/IPython/core/magics/execution.py?line=156'>157</a>\u001b[0m \u001b[39mfinally\u001b[39;00m:\n\u001b[1;32m    <a href='file:///home/louis/.local/share/virtualenvs/criminal_network_analysis-7tqkjw2s/lib/python3.8/site-packages/IPython/core/magics/execution.py?line=157'>158</a>\u001b[0m     \u001b[39mif\u001b[39;00m gcold:\n",
      "File \u001b[0;32m<magic-timeit>:1\u001b[0m, in \u001b[0;36minner\u001b[0;34m(_it, _timer)\u001b[0m\n",
      "\u001b[0;31mAttributeError\u001b[0m: type object 'graph_converter_c.NetworkConverter' has no attribute 'gt_to_nk'"
     ]
    }
   ],
   "source": [
    "\"\"\"Testing conversion speed.\"\"\"\n",
    "n_nodes = 1000\n",
    "prob = 0.3\n",
    "\n",
    "nx_graph = nx.erdos_renyi_graph(n=n_nodes, p=prob)\n",
    "nk_graph = nk.generators.ErdosRenyiGenerator(n_nodes, prob).generate()\n",
    "gt_graph = NetworkConverter.nx_to_gt(nx_graph)\n",
    "\n",
    "print(\"\\nNetworkx to Networkit:\")\n",
    "%timeit NetworkConverter.nx_to_nk(nx_graph)\n",
    "\n",
    "print(\"\\nNetworkit to Networkx:\")\n",
    "%timeit NetworkConverter.nk_to_nx(nk_graph)\n",
    "\n",
    "print(\"\\nNetworkx to Graph_tool:\")\n",
    "%timeit NetworkConverter.nx_to_gt(nx_graph)\n",
    "\n",
    "print(\"\\nGraph_tool to Networkx:\")\n",
    "%timeit NetworkConverter.gt_to_nx(gt_graph)\n",
    "\n",
    "print(\"\\nGraph_tool to Networkit:\")\n",
    "%timeit NetworkConverter.gt_to_nk(gt_graph)\n",
    "\n",
    "print(\"\\nNeworkit to Graph_tool:\")\n",
    "%timeit NetworkConverter.nk_to_gt(nk_graph)"
   ]
  },
  {
   "cell_type": "markdown",
   "metadata": {},
   "source": [
    "---\n",
    "\n",
    "Speed Test the different networkit algorithm to each other"
   ]
  },
  {
   "cell_type": "markdown",
   "metadata": {},
   "source": [
    "---\n",
    "\n",
    "### Testing the speed of various functions\n",
    "\n",
    "The purpose is to optimise python in order to have the best results once dealing with intense networks"
   ]
  },
  {
   "cell_type": "code",
   "execution_count": 24,
   "metadata": {},
   "outputs": [
    {
     "name": "stdout",
     "output_type": "stream",
     "text": [
      "\n",
      "Actuall Betweeness:\n",
      "[(88, 453.59910741391366), (84, 368.5642727022903), (11, 325.4226112243825), (66, 314.4442468492308), (24, 286.4503235584505)]\n",
      "383 µs ± 14 µs per loop (mean ± std. dev. of 7 runs, 1,000 loops each)\n",
      "\n",
      "ApproxBetweenness:\n",
      "[(88, 0.06403013182674197), (53, 0.03578154425612052), (21, 0.033898305084745756), (24, 0.033898305084745756), (84, 0.03201506591337099)]\n",
      "453 µs ± 21.8 µs per loop (mean ± std. dev. of 7 runs, 1,000 loops each)\n",
      "\n",
      "EstimateBetweenness:\n",
      "[(88, 0.056956814744384306), (84, 0.04495716804411559), (22, 0.032134717055968515), (24, 0.03148886552674701), (11, 0.030884188149110592)]\n",
      "1.47 ms ± 13.2 µs per loop (mean ± std. dev. of 7 runs, 1,000 loops each)\n",
      "\n",
      "KadabraBetweenness:\n",
      "[(88, 0.1105121293800539), (83, 0.0673854447439353), (26, 0.0646900269541779), (66, 0.06199460916442048), (84, 0.05660377358490566)]\n",
      "439 µs ± 24.4 µs per loop (mean ± std. dev. of 7 runs, 1,000 loops each)\n",
      "\n",
      "Graph-tool Betweeness:\n",
      "<VertexPropertyMap object with value type 'double', for Graph 0x7f03d47a06d0, at 0x7f03cf6e3970>\n",
      "CPU times: user 803 µs, sys: 11 µs, total: 814 µs\n",
      "Wall time: 319 µs\n"
     ]
    },
    {
     "data": {
      "text/plain": [
       "(<VertexPropertyMap object with value type 'double', for Graph 0x7f03d47a06d0, at 0x7f03c8f7fd90>,\n",
       " <EdgePropertyMap object with value type 'double', for Graph 0x7f03d47a06d0, at 0x7f03c8f7fb50>)"
      ]
     },
     "execution_count": 24,
     "metadata": {},
     "output_type": "execute_result"
    }
   ],
   "source": [
    "# create first graph\n",
    "n_nodes = 100\n",
    "prob = 0.1\n",
    "graph = nk.generators.ErdosRenyiGenerator(n_nodes, prob).generate()\n",
    "\n",
    "nx_graph = NetworkConverter.nk_to_nx(graph)\n",
    "gt_graph = NetworkConverter.nx_to_gt(nx_graph)\n",
    "\n",
    "# Inbetweeness\n",
    "\n",
    "print(\"\\nActuall Betweeness:\")\n",
    "btwn = nk.centrality.Betweenness(graph)\n",
    "btwn.run()\n",
    "print(btwn.ranking()[:5])\n",
    "%timeit btwn.run()\n",
    "\n",
    "print(\"\\nApproxBetweenness:\")\n",
    "ab = nk.centrality.ApproxBetweenness(graph, epsilon=0.1)\n",
    "ab.run()\n",
    "print(ab.ranking()[:5])\n",
    "%timeit ab.run()\n",
    "\n",
    "print(\"\\nEstimateBetweenness:\")\n",
    "est = nk.centrality.EstimateBetweenness(graph, 50, True, False)\n",
    "est.run()\n",
    "print(est.ranking()[:5])\n",
    "%timeit est.run()\n",
    "\n",
    "print(\"\\nKadabraBetweenness:\")\n",
    "kadabra = nk.centrality.KadabraBetweenness(graph, 0.05, 0.8)\n",
    "kadabra.run()\n",
    "print(kadabra.ranking()[:5])\n",
    "%timeit kadabra.run()"
   ]
  },
  {
   "cell_type": "markdown",
   "metadata": {},
   "source": [
    "Testing if yield is faster than return with the fibonacci sequence"
   ]
  },
  {
   "cell_type": "code",
   "execution_count": 14,
   "metadata": {},
   "outputs": [
    {
     "name": "stdout",
     "output_type": "stream",
     "text": [
      "Fibonacci sequence with yield:\n",
      "170 ms ± 1.5 ms per loop (mean ± std. dev. of 7 runs, 10 loops each)\n",
      "\n",
      "Fibonacci sequence with return:\n",
      "172 ms ± 568 µs per loop (mean ± std. dev. of 7 runs, 10 loops each)\n"
     ]
    }
   ],
   "source": [
    "def fib_yield(n):\n",
    "    \"\"\"Fibonacci sequence with yield.\"\"\"\n",
    "    a, b = 0, 1\n",
    "    for _ in range(n):\n",
    "        yield a\n",
    "        a, b = b, a + b\n",
    "\n",
    "\n",
    "def fib_return(n):\n",
    "    \"\"\"Fibonacci sequence with return.\"\"\"\n",
    "    a, b = 0, 1\n",
    "    sequence = []\n",
    "    for _ in range(n):\n",
    "        sequence.append(a)\n",
    "        a, b = b, a + b\n",
    "\n",
    "\n",
    "n = 100000\n",
    "print(\"Fibonacci sequence with yield:\")\n",
    "%timeit list(fib_yield(n))\n",
    "\n",
    "print(\"\\nFibonacci sequence with return:\")\n",
    "%timeit fib_return(n)"
   ]
  },
  {
   "cell_type": "markdown",
   "metadata": {},
   "source": [
    "---\n",
    "Testing if IF condition is faster than collect the all the values and get the min value"
   ]
  },
  {
   "cell_type": "code",
   "execution_count": 15,
   "metadata": {},
   "outputs": [
    {
     "name": "stdout",
     "output_type": "stream",
     "text": [
      "Radius with if condition:\n",
      "46.4 µs ± 468 ns per loop (mean ± std. dev. of 7 runs, 10,000 loops each)\n",
      "Radius is 2\n",
      "\n",
      "Radius with predefined list:\n",
      "53.9 µs ± 199 ns per loop (mean ± std. dev. of 7 runs, 10,000 loops each)\n",
      "Radius is 2.0\n"
     ]
    }
   ],
   "source": [
    "n_edges = 4\n",
    "n_nodes = 50\n",
    "random_network = nk.generators.BarabasiAlbertGenerator(\n",
    "    k=n_edges, nMax=n_nodes\n",
    ").generate()\n",
    "\n",
    "\n",
    "def get_radius_if_cond(network):\n",
    "    \"\"\"Get the radius (min eccentricity) using if condition.\"\"\"\n",
    "    radius = np.inf\n",
    "\n",
    "    for node in network.iterNodes():\n",
    "        new_radius = nk.distance.Eccentricity.getValue(network, node)[1]\n",
    "        if new_radius < radius:\n",
    "            radius = new_radius\n",
    "\n",
    "    return radius\n",
    "\n",
    "\n",
    "def get_radius_def_list(network):\n",
    "    \"\"\"Get the radius (min eccentricity) using if condition.\"\"\"\n",
    "    # predefine the len of the list for speed\n",
    "    radius = np.zeros(random_network.numberOfNodes())\n",
    "    # to append to the right idx in the list\n",
    "    iterator = iter(range(0, network.numberOfNodes()))\n",
    "\n",
    "    for node in network.iterNodes():\n",
    "        radius[next(iterator)] = nk.distance.Eccentricity.getValue(network, node)[1]\n",
    "\n",
    "    return min(radius)\n",
    "\n",
    "\n",
    "print(\"Radius with if condition:\")\n",
    "%timeit get_radius_if_cond(random_network)\n",
    "print(f\"Radius is {get_radius_if_cond(random_network)}\")\n",
    "\n",
    "print(\"\\nRadius with predefined list:\")\n",
    "%timeit get_radius_def_list(random_network)\n",
    "print(f\"Radius is {get_radius_def_list(random_network)}\")"
   ]
  },
  {
   "cell_type": "markdown",
   "metadata": {},
   "source": [
    "---\n",
    "Testing list vs numpy array manipulation"
   ]
  },
  {
   "cell_type": "code",
   "execution_count": 23,
   "metadata": {},
   "outputs": [
    {
     "name": "stdout",
     "output_type": "stream",
     "text": [
      "\n",
      "Using list comprehension\n",
      "1.02 s ± 7.76 ms per loop (mean ± std. dev. of 7 runs, 1 loop each)\n",
      "5.9 s ± 36.8 ms per loop (mean ± std. dev. of 7 runs, 1 loop each)\n",
      "6.18 s ± 66.5 ms per loop (mean ± std. dev. of 7 runs, 1 loop each)\n",
      "\n",
      "Using numpy comprehension:\n",
      "3.87 s ± 24.4 ms per loop (mean ± std. dev. of 7 runs, 1 loop each)\n",
      "161 ms ± 1.71 ms per loop (mean ± std. dev. of 7 runs, 10 loops each)\n",
      "121 ms ± 681 µs per loop (mean ± std. dev. of 7 runs, 10 loops each)\n",
      "\n",
      "List comprehension results : 1.000100010001e-08\n",
      "\n",
      "Numpy comprehension results : 1.000100010001e-08\n"
     ]
    }
   ],
   "source": [
    "n_nodes = 1000\n",
    "prob = 3\n",
    "network = nk.generators.ErdosRenyiGenerator(n_nodes, prob).generate()\n",
    "\n",
    "apsp = nk.distance.APSP(network)\n",
    "apsp.run()\n",
    "# Vector of list for each node to each node\n",
    "vector_of_dist = apsp.getDistances()\n",
    "\n",
    "print(\"\\nUsing list comprehension\")\n",
    "%timeit list(itertools.chain.from_iterable(vector_of_dist))\n",
    "l_list_dist = list(itertools.chain.from_iterable(vector_of_dist))\n",
    "\n",
    "%timeit list(filter(lambda a: a != 0, l_list_dist))\n",
    "l_list_dist = list(filter(lambda a: a != 0, l_list_dist))\n",
    "\n",
    "%timeit list(map(lambda x: 1/x, l_list_dist))\n",
    "l_inv = list(map(lambda x: 1 / x, l_list_dist))\n",
    "\n",
    "print(\"\\nUsing numpy comprehension:\")\n",
    "%timeit np.hstack(vector_of_dist)\n",
    "np_list_dist = np.hstack(vector_of_dist)\n",
    "\n",
    "%timeit np_list_dist[np_list_dist != 0]\n",
    "np_list_dist = np_list_dist[np_list_dist != 0]\n",
    "\n",
    "%timeit np.reciprocal(np_list_dist)\n",
    "np_inv = np.reciprocal(np_list_dist)\n",
    "\n",
    "\n",
    "# Compare results\n",
    "n = network.numberOfNodes()\n",
    "l_efficiency = (1 / (n * (n - 1))) * np.mean(l_inv)\n",
    "print(\"\\nList comprehension results :\", l_efficiency)\n",
    "np_efficiency = (1 / (n * (n - 1))) * np.mean(np_inv)\n",
    "print(\"\\nNumpy comprehension results :\", np_efficiency)"
   ]
  },
  {
   "cell_type": "code",
   "execution_count": null,
   "metadata": {},
   "outputs": [],
   "source": []
  }
 ],
 "metadata": {
  "interpreter": {
   "hash": "1fe4aacc162c68fa2b6d9d553bee24a2593cf30c4dc606bf8c91e878b2bbb459"
  },
  "kernelspec": {
   "display_name": "Python 3 (ipykernel)",
   "language": "python",
   "name": "python3"
  },
  "language_info": {
   "codemirror_mode": {
    "name": "ipython",
    "version": 3
   },
   "file_extension": ".py",
   "mimetype": "text/x-python",
   "name": "python",
   "nbconvert_exporter": "python",
   "pygments_lexer": "ipython3",
   "version": "3.8.10"
  }
 },
 "nbformat": 4,
 "nbformat_minor": 2
}
