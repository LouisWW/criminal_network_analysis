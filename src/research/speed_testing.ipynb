{
 "cells": [
  {
   "cell_type": "markdown",
   "metadata": {},
   "source": [
    "# Speed testing\n",
    "\n",
    "Purpose of this Notebook is to test the speed of different packages/functions\n",
    "to achieve a fast simulation process\n",
    "\n",
    "---"
   ]
  },
  {
   "cell_type": "markdown",
   "metadata": {},
   "source": [
    "\n",
    "### Networkit vs Netowrkx vs Graph Tool\n",
    "\n",
    "The purpose is to test which methods from networkx or networkit or graph tool are faster \n",
    "to ensure optimal coding experience"
   ]
  },
  {
   "cell_type": "code",
   "execution_count": 7,
   "metadata": {},
   "outputs": [],
   "source": [
    "\"\"\"Import necessary packages.\"\"\"\n",
    "import os\n",
    "import sys\n",
    "\n",
    "import graph_tool.all as gt\n",
    "import networkit as nk\n",
    "import networkx as nx\n",
    "import numpy as np\n",
    "\n",
    "# Get directory first\n",
    "path = os.getcwd()\n",
    "par_dir = os.path.abspath(os.path.join(path, \"../\"))\n",
    "\n",
    "# Import own module\n",
    "sys.path.append(par_dir)\n",
    "if True:\n",
    "    from utils.graph_converter import NetworkConverter\n",
    "    from utils.graph_converter_c import NetworkConverter as NetworkConverter_C"
   ]
  },
  {
   "cell_type": "markdown",
   "metadata": {},
   "source": [
    "---\n",
    "\n",
    "Random Graph Speed Test"
   ]
  },
  {
   "cell_type": "code",
   "execution_count": 10,
   "metadata": {},
   "outputs": [
    {
     "name": "stdout",
     "output_type": "stream",
     "text": [
      "Networkx:\n",
      "142 ms ± 1.27 ms per loop (mean ± std. dev. of 7 runs, 10 loops each)\n",
      "Network Properties:\n",
      "nodes, edges\t\t\t1000, 149764\n",
      "directed?\t\t\tFalse\n",
      "weighted?\t\t\tFalse\n",
      "isolated nodes\t\t\t0\n",
      "self-loops\t\t\t0\n",
      "density\t\t\t\t0.299828\n",
      "clustering coefficient\t\t0.299841\n",
      "min/max/avg degree\t\t255, 343, 299.528000\n",
      "degree assortativity\t\t-0.001737\n",
      "number of connected components\t1\n",
      "size of largest component\t1000 (100.00 %)\n",
      "\n",
      "Networkit:\n",
      "3.57 ms ± 1.02 ms per loop (mean ± std. dev. of 7 runs, 100 loops each)\n",
      "Network Properties:\n",
      "nodes, edges\t\t\t1000, 149712\n",
      "directed?\t\t\tFalse\n",
      "weighted?\t\t\tFalse\n",
      "isolated nodes\t\t\t0\n",
      "self-loops\t\t\t0\n",
      "density\t\t\t\t0.299724\n",
      "clustering coefficient\t\t0.299629\n",
      "min/max/avg degree\t\t257, 345, 299.424000\n",
      "degree assortativity\t\t-0.001479\n",
      "number of connected components\t1\n",
      "size of largest component\t1000 (100.00 %)\n",
      "\n",
      "Graph Tool:\n",
      "26.4 ms ± 359 µs per loop (mean ± std. dev. of 7 runs, 10 loops each)\n"
     ]
    }
   ],
   "source": [
    "\"\"\"Testing random graph speed.\"\"\"\n",
    "n_nodes = 1000\n",
    "prob = 0.3\n",
    "\n",
    "print(\"Networkx:\")\n",
    "%timeit nx.erdos_renyi_graph(n=n_nodes, p=prob)\n",
    "nk.overview(nk.nxadapter.nx2nk(nx.erdos_renyi_graph(n=n_nodes, p=prob)))\n",
    "\n",
    "print(\"\\nNetworkit:\")\n",
    "%timeit nk.generators.ErdosRenyiGenerator(n_nodes, prob).generate()\n",
    "nk.overview(nk.generators.ErdosRenyiGenerator(n_nodes, prob).generate())\n",
    "\n",
    "\n",
    "print(\"\\nGraph Tool:\")\n",
    "\n",
    "\n",
    "def sample_k(max):\n",
    "    \"\"\"Sample example.\"\"\"\n",
    "    accept = False\n",
    "    while not accept:\n",
    "        k = np.random.randint(1, max + 1)\n",
    "        accept = np.random.random() < 1.0 / k\n",
    "    return k\n",
    "\n",
    "\n",
    "%timeit gt.random_graph(N=n_nodes, deg_sampler= lambda: sample_k(40), directed=False)\n",
    "graph = gt.random_graph(N=n_nodes, deg_sampler=lambda: sample_k(40), directed=False)"
   ]
  },
  {
   "cell_type": "markdown",
   "metadata": {},
   "source": [
    "---\n",
    "\n",
    "Barabasi-Albert Speed Test\n"
   ]
  },
  {
   "cell_type": "code",
   "execution_count": 11,
   "metadata": {},
   "outputs": [
    {
     "name": "stdout",
     "output_type": "stream",
     "text": [
      "Networkx:\n",
      "4.19 ms ± 9.96 µs per loop (mean ± std. dev. of 7 runs, 100 loops each)\n",
      "Network Properties:\n",
      "nodes, edges\t\t\t1000, 2991\n",
      "directed?\t\t\tFalse\n",
      "weighted?\t\t\tFalse\n",
      "isolated nodes\t\t\t0\n",
      "self-loops\t\t\t0\n",
      "density\t\t\t\t0.005988\n",
      "clustering coefficient\t\t0.027347\n",
      "min/max/avg degree\t\t2, 85, 5.982000\n",
      "degree assortativity\t\t0.304154\n",
      "number of connected components\t1\n",
      "size of largest component\t1000 (100.00 %)\n",
      "\n",
      "Networkit:\n",
      "115 µs ± 309 ns per loop (mean ± std. dev. of 7 runs, 10,000 loops each)\n",
      "Network Properties:\n",
      "nodes, edges\t\t\t1000, 2994\n",
      "directed?\t\t\tFalse\n",
      "weighted?\t\t\tFalse\n",
      "isolated nodes\t\t\t0\n",
      "self-loops\t\t\t0\n",
      "density\t\t\t\t0.005994\n",
      "clustering coefficient\t\t0.032660\n",
      "min/max/avg degree\t\t3, 97, 5.988000\n",
      "degree assortativity\t\t0.291063\n",
      "number of connected components\t1\n",
      "size of largest component\t1000 (100.00 %)\n"
     ]
    }
   ],
   "source": [
    "\"\"\"Testing Barabasi-speed test.\"\"\"\n",
    "n_nodes = 1000\n",
    "n_edges = 3\n",
    "\n",
    "print(\"Networkx:\")\n",
    "%timeit nx.barabasi_albert_graph(n=n_nodes, m=n_edges)\n",
    "nk.overview(nk.nxadapter.nx2nk(nx.barabasi_albert_graph(n=n_nodes, m=n_edges)))\n",
    "\n",
    "print(\"\\nNetworkit:\")\n",
    "%timeit nk.generators.BarabasiAlbertGenerator(k=n_edges,nMax=n_nodes).generate()\n",
    "nk.overview(nk.generators.BarabasiAlbertGenerator(k=n_edges, nMax=n_nodes).generate())"
   ]
  },
  {
   "cell_type": "markdown",
   "metadata": {},
   "source": [
    "\n",
    "---\n",
    "Coversion Speed Test"
   ]
  },
  {
   "cell_type": "code",
   "execution_count": 8,
   "metadata": {},
   "outputs": [
    {
     "name": "stdout",
     "output_type": "stream",
     "text": [
      "Networkx to Networkit:\n",
      "36.4 ms ± 92.6 µs per loop (mean ± std. dev. of 7 runs, 10 loops each)\n",
      "Networkit to Networkx:\n",
      "117 ms ± 1.37 ms per loop (mean ± std. dev. of 7 runs, 10 loops each)\n",
      "Networkx to Graph_tool:\n",
      "563 ms ± 6.09 ms per loop (mean ± std. dev. of 7 runs, 1 loop each)\n"
     ]
    }
   ],
   "source": [
    "\"\"\"Testing conversion speed.\"\"\"\n",
    "n_nodes = 1000\n",
    "prob = 0.3\n",
    "\n",
    "print(\"Networkx to Networkit:\")\n",
    "graph = nx.erdos_renyi_graph(n=n_nodes, p=prob)\n",
    "%timeit NetworkConverter.nx_to_nk(graph)\n",
    "\n",
    "print(\"Networkit to Networkx:\")\n",
    "graph = nk.generators.ErdosRenyiGenerator(n_nodes, prob).generate()\n",
    "%timeit NetworkConverter.nk_to_nx(graph)\n",
    "\n",
    "print(\"Networkx to Graph_tool:\")\n",
    "graph = graph = nx.erdos_renyi_graph(n=n_nodes, p=prob)\n",
    "%timeit NetworkConverter.nx_to_gt(graph)\n",
    "\n",
    "print(\"Networkx to Graph_tool with Cython:\")\n",
    "graph = graph = nx.erdos_renyi_graph(n=n_nodes, p=prob)\n",
    "%timeit NetworkConverter_C.nx_to_gt(graph)"
   ]
  },
  {
   "cell_type": "markdown",
   "metadata": {},
   "source": [
    "---\n",
    "\n",
    "Speed Test the different networkit algorithm to each other"
   ]
  },
  {
   "cell_type": "markdown",
   "metadata": {},
   "source": [
    "---\n",
    "\n",
    "### Testing the speed of various functions\n",
    "\n",
    "The purpose is to optimise python in order to have the best results once dealing with intense networks"
   ]
  },
  {
   "cell_type": "code",
   "execution_count": 24,
   "metadata": {},
   "outputs": [
    {
     "name": "stdout",
     "output_type": "stream",
     "text": [
      "\n",
      "Actuall Betweeness:\n",
      "[(88, 453.59910741391366), (84, 368.5642727022903), (11, 325.4226112243825), (66, 314.4442468492308), (24, 286.4503235584505)]\n",
      "383 µs ± 14 µs per loop (mean ± std. dev. of 7 runs, 1,000 loops each)\n",
      "\n",
      "ApproxBetweenness:\n",
      "[(88, 0.06403013182674197), (53, 0.03578154425612052), (21, 0.033898305084745756), (24, 0.033898305084745756), (84, 0.03201506591337099)]\n",
      "453 µs ± 21.8 µs per loop (mean ± std. dev. of 7 runs, 1,000 loops each)\n",
      "\n",
      "EstimateBetweenness:\n",
      "[(88, 0.056956814744384306), (84, 0.04495716804411559), (22, 0.032134717055968515), (24, 0.03148886552674701), (11, 0.030884188149110592)]\n",
      "1.47 ms ± 13.2 µs per loop (mean ± std. dev. of 7 runs, 1,000 loops each)\n",
      "\n",
      "KadabraBetweenness:\n",
      "[(88, 0.1105121293800539), (83, 0.0673854447439353), (26, 0.0646900269541779), (66, 0.06199460916442048), (84, 0.05660377358490566)]\n",
      "439 µs ± 24.4 µs per loop (mean ± std. dev. of 7 runs, 1,000 loops each)\n",
      "\n",
      "Graph-tool Betweeness:\n",
      "<VertexPropertyMap object with value type 'double', for Graph 0x7f03d47a06d0, at 0x7f03cf6e3970>\n",
      "CPU times: user 803 µs, sys: 11 µs, total: 814 µs\n",
      "Wall time: 319 µs\n"
     ]
    },
    {
     "data": {
      "text/plain": [
       "(<VertexPropertyMap object with value type 'double', for Graph 0x7f03d47a06d0, at 0x7f03c8f7fd90>,\n",
       " <EdgePropertyMap object with value type 'double', for Graph 0x7f03d47a06d0, at 0x7f03c8f7fb50>)"
      ]
     },
     "execution_count": 24,
     "metadata": {},
     "output_type": "execute_result"
    }
   ],
   "source": [
    "# create first graph\n",
    "n_nodes = 100\n",
    "prob = 0.1\n",
    "graph = nk.generators.ErdosRenyiGenerator(n_nodes, prob).generate()\n",
    "\n",
    "nx_graph = NetworkConverter.nk_to_nx(graph)\n",
    "gt_graph = NetworkConverter.nx_to_gt(nx_graph)\n",
    "\n",
    "# Inbetweeness\n",
    "\n",
    "print(\"\\nActuall Betweeness:\")\n",
    "btwn = nk.centrality.Betweenness(graph)\n",
    "btwn.run()\n",
    "print(btwn.ranking()[:5])\n",
    "%timeit btwn.run()\n",
    "\n",
    "print(\"\\nApproxBetweenness:\")\n",
    "ab = nk.centrality.ApproxBetweenness(graph, epsilon=0.1)\n",
    "ab.run()\n",
    "print(ab.ranking()[:5])\n",
    "%timeit ab.run()\n",
    "\n",
    "print(\"\\nEstimateBetweenness:\")\n",
    "est = nk.centrality.EstimateBetweenness(graph, 50, True, False)\n",
    "est.run()\n",
    "print(est.ranking()[:5])\n",
    "%timeit est.run()\n",
    "\n",
    "print(\"\\nKadabraBetweenness:\")\n",
    "kadabra = nk.centrality.KadabraBetweenness(graph, 0.05, 0.8)\n",
    "kadabra.run()\n",
    "print(kadabra.ranking()[:5])\n",
    "%timeit kadabra.run()"
   ]
  },
  {
   "cell_type": "markdown",
   "metadata": {},
   "source": [
    "Testing if yield is faster than return with the fibonacci sequence"
   ]
  },
  {
   "cell_type": "code",
   "execution_count": 14,
   "metadata": {},
   "outputs": [
    {
     "name": "stdout",
     "output_type": "stream",
     "text": [
      "Fibonacci sequence with yield:\n",
      "170 ms ± 1.5 ms per loop (mean ± std. dev. of 7 runs, 10 loops each)\n",
      "\n",
      "Fibonacci sequence with return:\n",
      "172 ms ± 568 µs per loop (mean ± std. dev. of 7 runs, 10 loops each)\n"
     ]
    }
   ],
   "source": [
    "def fib_yield(n):\n",
    "    \"\"\"Fibonacci sequence with yield.\"\"\"\n",
    "    a, b = 0, 1\n",
    "    for _ in range(n):\n",
    "        yield a\n",
    "        a, b = b, a + b\n",
    "\n",
    "\n",
    "def fib_return(n):\n",
    "    \"\"\"Fibonacci sequence with return.\"\"\"\n",
    "    a, b = 0, 1\n",
    "    sequence = []\n",
    "    for _ in range(n):\n",
    "        sequence.append(a)\n",
    "        a, b = b, a + b\n",
    "\n",
    "\n",
    "n = 100000\n",
    "print(\"Fibonacci sequence with yield:\")\n",
    "%timeit list(fib_yield(n))\n",
    "\n",
    "print(\"\\nFibonacci sequence with return:\")\n",
    "%timeit fib_return(n)"
   ]
  },
  {
   "cell_type": "markdown",
   "metadata": {},
   "source": [
    "---\n",
    "Testing if IF condition is faster than collect the all the values and get the min value"
   ]
  },
  {
   "cell_type": "code",
   "execution_count": 15,
   "metadata": {},
   "outputs": [
    {
     "name": "stdout",
     "output_type": "stream",
     "text": [
      "Radius with if condition:\n",
      "46.4 µs ± 468 ns per loop (mean ± std. dev. of 7 runs, 10,000 loops each)\n",
      "Radius is 2\n",
      "\n",
      "Radius with predefined list:\n",
      "53.9 µs ± 199 ns per loop (mean ± std. dev. of 7 runs, 10,000 loops each)\n",
      "Radius is 2.0\n"
     ]
    }
   ],
   "source": [
    "n_edges = 4\n",
    "n_nodes = 50\n",
    "random_network = nk.generators.BarabasiAlbertGenerator(\n",
    "    k=n_edges, nMax=n_nodes\n",
    ").generate()\n",
    "\n",
    "\n",
    "def get_radius_if_cond(network):\n",
    "    \"\"\"Get the radius (min eccentricity) using if condition.\"\"\"\n",
    "    radius = np.inf\n",
    "\n",
    "    for node in network.iterNodes():\n",
    "        new_radius = nk.distance.Eccentricity.getValue(network, node)[1]\n",
    "        if new_radius < radius:\n",
    "            radius = new_radius\n",
    "\n",
    "    return radius\n",
    "\n",
    "\n",
    "def get_radius_def_list(network):\n",
    "    \"\"\"Get the radius (min eccentricity) using if condition.\"\"\"\n",
    "    # predefine the len of the list for speed\n",
    "    radius = np.zeros(random_network.numberOfNodes())\n",
    "    # to append to the right idx in the list\n",
    "    iterator = iter(range(0, network.numberOfNodes()))\n",
    "\n",
    "    for node in network.iterNodes():\n",
    "        radius[next(iterator)] = nk.distance.Eccentricity.getValue(network, node)[1]\n",
    "\n",
    "    return min(radius)\n",
    "\n",
    "\n",
    "print(\"Radius with if condition:\")\n",
    "%timeit get_radius_if_cond(random_network)\n",
    "print(f\"Radius is {get_radius_if_cond(random_network)}\")\n",
    "\n",
    "print(\"\\nRadius with predefined list:\")\n",
    "%timeit get_radius_def_list(random_network)\n",
    "print(f\"Radius is {get_radius_def_list(random_network)}\")"
   ]
  }
 ],
 "metadata": {
  "interpreter": {
   "hash": "1fe4aacc162c68fa2b6d9d553bee24a2593cf30c4dc606bf8c91e878b2bbb459"
  },
  "kernelspec": {
   "display_name": "Python 3 (ipykernel)",
   "language": "python",
   "name": "python3"
  },
  "language_info": {
   "codemirror_mode": {
    "name": "ipython",
    "version": 3
   },
   "file_extension": ".py",
   "mimetype": "text/x-python",
   "name": "python",
   "nbconvert_exporter": "python",
   "pygments_lexer": "ipython3",
   "version": "3.8.10"
  }
 },
 "nbformat": 4,
 "nbformat_minor": 2
}
