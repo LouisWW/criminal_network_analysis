{
 "cells": [
  {
   "cell_type": "markdown",
   "metadata": {},
   "source": [
    "# Speed testing\n",
    "\n",
    "Purpose of this Notebook is to test the speed of different packages/functions\n",
    "to achieve a fast simulation process\n",
    "\n",
    "---"
   ]
  },
  {
   "cell_type": "markdown",
   "metadata": {},
   "source": [
    "\n",
    "### Networkit vs Netowrkx vs Graph Tool\n",
    "\n",
    "The purpose is to test which methods from networkx or networkit or graph tool are faster \n",
    "to ensure optimal coding experience"
   ]
  },
  {
   "cell_type": "code",
   "execution_count": 1,
   "metadata": {},
   "outputs": [
    {
     "data": {
      "text/html": [
       "\n",
       "\t\t\t<script type=\"text/javascript\">\n",
       "\t\t\t<!--\n",
       "\t\t\t\t\n",
       "\t\t\t{\n",
       "\t\t\t\tvar element = document.getElementById('NetworKit_script');\n",
       "\t\t\t\tif (element) {\n",
       "\t\t\t\t\telement.parentNode.removeChild(element);\n",
       "\t\t\t\t}\n",
       "\t\t\t\telement = document.createElement('script');\n",
       "\t\t\t\telement.type = 'text/javascript';\n",
       "\t\t\t\telement.innerHTML = 'function NetworKit_pageEmbed(id) { var i, j; var elements; elements = document.getElementById(id).getElementsByClassName(\"Plot\"); for (i=0; i<elements.length; i++) { elements[i].id = id + \"_Plot_\" + i; var data = elements[i].getAttribute(\"data-image\").split(\"|\"); elements[i].removeAttribute(\"data-image\"); var content = \"<div class=\\\\\"Image\\\\\" id=\\\\\"\" + elements[i].id + \"_Image\\\\\" />\"; elements[i].innerHTML = content; elements[i].setAttribute(\"data-image-index\", 0); elements[i].setAttribute(\"data-image-length\", data.length); for (j=0; j<data.length; j++) { elements[i].setAttribute(\"data-image-\" + j, data[j]); } NetworKit_plotUpdate(elements[i]); elements[i].onclick = function (e) { NetworKit_overlayShow((e.target) ? e.target : e.srcElement); } } elements = document.getElementById(id).getElementsByClassName(\"HeatCell\"); for (i=0; i<elements.length; i++) { var data = parseFloat(elements[i].getAttribute(\"data-heat\")); var color = \"#00FF00\"; if (data <= 1 && data > 0) { color = \"hsla(0, 100%, 75%, \" + (data) + \")\"; } else if (data <= 0 && data >= -1) { color = \"hsla(240, 100%, 75%, \" + (-data) + \")\"; } elements[i].style.backgroundColor = color; } elements = document.getElementById(id).getElementsByClassName(\"Details\"); for (i=0; i<elements.length; i++) { elements[i].setAttribute(\"data-title\", \"-\"); NetworKit_toggleDetails(elements[i]); elements[i].onclick = function (e) { NetworKit_toggleDetails((e.target) ? e.target : e.srcElement); } } elements = document.getElementById(id).getElementsByClassName(\"MathValue\"); for (i=elements.length-1; i>=0; i--) { value = elements[i].innerHTML.trim(); if (value === \"nan\") { elements[i].parentNode.innerHTML = \"\" } } elements = document.getElementById(id).getElementsByClassName(\"SubCategory\"); for (i=elements.length-1; i>=0; i--) { value = elements[i].innerHTML.trim(); if (value === \"\") { elements[i].parentNode.removeChild(elements[i]) } } elements = document.getElementById(id).getElementsByClassName(\"Category\"); for (i=elements.length-1; i>=0; i--) { value = elements[i].innerHTML.trim(); if (value === \"\") { elements[i].parentNode.removeChild(elements[i]) } } var isFirefox = false; try { isFirefox = typeof InstallTrigger !== \"undefined\"; } catch (e) {} if (!isFirefox) { alert(\"Currently the function\\'s output is only fully supported by Firefox.\"); } } function NetworKit_plotUpdate(source) { var index = source.getAttribute(\"data-image-index\"); var data = source.getAttribute(\"data-image-\" + index); var image = document.getElementById(source.id + \"_Image\"); image.style.backgroundImage = \"url(\" + data + \")\"; } function NetworKit_showElement(id, show) { var element = document.getElementById(id); element.style.display = (show) ? \"block\" : \"none\"; } function NetworKit_overlayShow(source) { NetworKit_overlayUpdate(source); NetworKit_showElement(\"NetworKit_Overlay\", true); } function NetworKit_overlayUpdate(source) { document.getElementById(\"NetworKit_Overlay_Title\").innerHTML = source.title; var index = source.getAttribute(\"data-image-index\"); var data = source.getAttribute(\"data-image-\" + index); var image = document.getElementById(\"NetworKit_Overlay_Image\"); image.setAttribute(\"data-id\", source.id); image.style.backgroundImage = \"url(\" + data + \")\"; var link = document.getElementById(\"NetworKit_Overlay_Toolbar_Bottom_Save\"); link.href = data; link.download = source.title + \".svg\"; } function NetworKit_overlayImageShift(delta) { var image = document.getElementById(\"NetworKit_Overlay_Image\"); var source = document.getElementById(image.getAttribute(\"data-id\")); var index = parseInt(source.getAttribute(\"data-image-index\")); var length = parseInt(source.getAttribute(\"data-image-length\")); var index = (index+delta) % length; if (index < 0) { index = length + index; } source.setAttribute(\"data-image-index\", index); NetworKit_overlayUpdate(source); } function NetworKit_toggleDetails(source) { var childs = source.children; var show = false; if (source.getAttribute(\"data-title\") == \"-\") { source.setAttribute(\"data-title\", \"+\"); show = false; } else { source.setAttribute(\"data-title\", \"-\"); show = true; } for (i=0; i<childs.length; i++) { if (show) { childs[i].style.display = \"block\"; } else { childs[i].style.display = \"none\"; } } }';\n",
       "\t\t\t\telement.setAttribute('id', 'NetworKit_script');\n",
       "\t\t\t\tdocument.head.appendChild(element);\n",
       "\t\t\t}\n",
       "\t\t\n",
       "\t\t\t\t\n",
       "\t\t\t{\n",
       "\t\t\t\tvar element = document.getElementById('NetworKit_style');\n",
       "\t\t\t\tif (element) {\n",
       "\t\t\t\t\telement.parentNode.removeChild(element);\n",
       "\t\t\t\t}\n",
       "\t\t\t\telement = document.createElement('style');\n",
       "\t\t\t\telement.type = 'text/css';\n",
       "\t\t\t\telement.innerHTML = '.NetworKit_Page { font-family: Arial, Helvetica, sans-serif; font-size: 14px; } .NetworKit_Page .Value:before { font-family: Arial, Helvetica, sans-serif; font-size: 1.05em; content: attr(data-title) \":\"; margin-left: -2.5em; padding-right: 0.5em; } .NetworKit_Page .Details .Value:before { display: block; } .NetworKit_Page .Value { font-family: monospace; white-space: pre; padding-left: 2.5em; white-space: -moz-pre-wrap !important; white-space: -pre-wrap; white-space: -o-pre-wrap; white-space: pre-wrap; word-wrap: break-word; tab-size: 4; -moz-tab-size: 4; } .NetworKit_Page .Category { clear: both; padding-left: 1em; margin-bottom: 1.5em; } .NetworKit_Page .Category:before { content: attr(data-title); font-size: 1.75em; display: block; margin-left: -0.8em; margin-bottom: 0.5em; } .NetworKit_Page .SubCategory { margin-bottom: 1.5em; padding-left: 1em; } .NetworKit_Page .SubCategory:before { font-size: 1.6em; display: block; margin-left: -0.8em; margin-bottom: 0.5em; } .NetworKit_Page .SubCategory[data-title]:before { content: attr(data-title); } .NetworKit_Page .Block { display: block; } .NetworKit_Page .Block:after { content: \".\"; visibility: hidden; display: block; height: 0; clear: both; } .NetworKit_Page .Block .Thumbnail_Overview, .NetworKit_Page .Block .Thumbnail_ScatterPlot { width: 260px; float: left; } .NetworKit_Page .Block .Thumbnail_Overview img, .NetworKit_Page .Block .Thumbnail_ScatterPlot img { width: 260px; } .NetworKit_Page .Block .Thumbnail_Overview:before, .NetworKit_Page .Block .Thumbnail_ScatterPlot:before { display: block; text-align: center; font-weight: bold; } .NetworKit_Page .Block .Thumbnail_Overview:before { content: attr(data-title); } .NetworKit_Page .HeatCell { font-family: \"Courier New\", Courier, monospace; cursor: pointer; } .NetworKit_Page .HeatCell, .NetworKit_Page .HeatCellName { display: inline; padding: 0.1em; margin-right: 2px; background-color: #FFFFFF } .NetworKit_Page .HeatCellName { margin-left: 0.25em; } .NetworKit_Page .HeatCell:before { content: attr(data-heat); display: inline-block; color: #000000; width: 4em; text-align: center; } .NetworKit_Page .Measure { clear: both; } .NetworKit_Page .Measure .Details { cursor: pointer; } .NetworKit_Page .Measure .Details:before { content: \"[\" attr(data-title) \"]\"; display: block; } .NetworKit_Page .Measure .Details .Value { border-left: 1px dotted black; margin-left: 0.4em; padding-left: 3.5em; pointer-events: none; } .NetworKit_Page .Measure .Details .Spacer:before { content: \".\"; opacity: 0.0; pointer-events: none; } .NetworKit_Page .Measure .Plot { width: 440px; height: 440px; cursor: pointer; float: left; margin-left: -0.9em; margin-right: 20px; } .NetworKit_Page .Measure .Plot .Image { background-repeat: no-repeat; background-position: center center; background-size: contain; height: 100%; pointer-events: none; } .NetworKit_Page .Measure .Stat { width: 500px; float: left; } .NetworKit_Page .Measure .Stat .Group { padding-left: 1.25em; margin-bottom: 0.75em; } .NetworKit_Page .Measure .Stat .Group .Title { font-size: 1.1em; display: block; margin-bottom: 0.3em; margin-left: -0.75em; border-right-style: dotted; border-right-width: 1px; border-bottom-style: dotted; border-bottom-width: 1px; background-color: #D0D0D0; padding-left: 0.2em; } .NetworKit_Page .Measure .Stat .Group .List { -webkit-column-count: 3; -moz-column-count: 3; column-count: 3; } .NetworKit_Page .Measure .Stat .Group .List .Entry { position: relative; line-height: 1.75em; } .NetworKit_Page .Measure .Stat .Group .List .Entry[data-tooltip]:before { position: absolute; left: 0; top: -40px; background-color: #808080; color: #ffffff; height: 30px; line-height: 30px; border-radius: 5px; padding: 0 15px; content: attr(data-tooltip); white-space: nowrap; display: none; } .NetworKit_Page .Measure .Stat .Group .List .Entry[data-tooltip]:after { position: absolute; left: 15px; top: -10px; border-top: 7px solid #808080; border-left: 7px solid transparent; border-right: 7px solid transparent; content: \"\"; display: none; } .NetworKit_Page .Measure .Stat .Group .List .Entry[data-tooltip]:hover:after, .NetworKit_Page .Measure .Stat .Group .List .Entry[data-tooltip]:hover:before { display: block; } .NetworKit_Page .Measure .Stat .Group .List .Entry .MathValue { font-family: \"Courier New\", Courier, monospace; } .NetworKit_Page .Measure:after { content: \".\"; visibility: hidden; display: block; height: 0; clear: both; } .NetworKit_Page .PartitionPie { clear: both; } .NetworKit_Page .PartitionPie img { width: 600px; } #NetworKit_Overlay { left: 0px; top: 0px; display: none; position: absolute; width: 100%; height: 100%; background-color: rgba(0,0,0,0.6); z-index: 1000; } #NetworKit_Overlay_Title { position: absolute; color: white; transform: rotate(-90deg); width: 32em; height: 32em; padding-right: 0.5em; padding-top: 0.5em; text-align: right; font-size: 40px; } #NetworKit_Overlay .button { background: white; cursor: pointer; } #NetworKit_Overlay .button:before { size: 13px; display: inline-block; text-align: center; margin-top: 0.5em; margin-bottom: 0.5em; width: 1.5em; height: 1.5em; } #NetworKit_Overlay .icon-close:before { content: \"X\"; } #NetworKit_Overlay .icon-previous:before { content: \"P\"; } #NetworKit_Overlay .icon-next:before { content: \"N\"; } #NetworKit_Overlay .icon-save:before { content: \"S\"; } #NetworKit_Overlay_Toolbar_Top, #NetworKit_Overlay_Toolbar_Bottom { position: absolute; width: 40px; right: 13px; text-align: right; z-index: 1100; } #NetworKit_Overlay_Toolbar_Top { top: 0.5em; } #NetworKit_Overlay_Toolbar_Bottom { Bottom: 0.5em; } #NetworKit_Overlay_ImageContainer { position: absolute; top: 5%; left: 5%; height: 90%; width: 90%; background-repeat: no-repeat; background-position: center center; background-size: contain; } #NetworKit_Overlay_Image { height: 100%; width: 100%; background-repeat: no-repeat; background-position: center center; background-size: contain; }';\n",
       "\t\t\t\telement.setAttribute('id', 'NetworKit_style');\n",
       "\t\t\t\tdocument.head.appendChild(element);\n",
       "\t\t\t}\n",
       "\t\t\n",
       "\t\t\t\t\n",
       "\t\t\t{\n",
       "\t\t\t\tvar element = document.getElementById('NetworKit_Overlay');\n",
       "\t\t\t\tif (element) {\n",
       "\t\t\t\t\telement.parentNode.removeChild(element);\n",
       "\t\t\t\t}\n",
       "\t\t\t\telement = document.createElement('div');\n",
       "\t\t\t\telement.innerHTML = '<div id=\"NetworKit_Overlay_Toolbar_Top\"><div class=\"button icon-close\" id=\"NetworKit_Overlay_Close\" /></div><div id=\"NetworKit_Overlay_Title\" /> <div id=\"NetworKit_Overlay_ImageContainer\"> <div id=\"NetworKit_Overlay_Image\" /> </div> <div id=\"NetworKit_Overlay_Toolbar_Bottom\"> <div class=\"button icon-previous\" onclick=\"NetworKit_overlayImageShift(-1)\" /> <div class=\"button icon-next\" onclick=\"NetworKit_overlayImageShift(1)\" /> <a id=\"NetworKit_Overlay_Toolbar_Bottom_Save\"><div class=\"button icon-save\" /></a> </div>';\n",
       "\t\t\t\telement.setAttribute('id', 'NetworKit_Overlay');\n",
       "\t\t\t\tdocument.body.appendChild(element);\n",
       "\t\t\t\tdocument.getElementById('NetworKit_Overlay_Close').onclick = function (e) {\n",
       "\t\t\t\t\tdocument.getElementById('NetworKit_Overlay').style.display = 'none';\n",
       "\t\t\t\t}\n",
       "\t\t\t}\n",
       "\t\t\n",
       "\t\t\t-->\n",
       "\t\t\t</script>\n",
       "\t\t"
      ]
     },
     "metadata": {},
     "output_type": "display_data"
    }
   ],
   "source": [
    "\"\"\"Import necessary packages.\"\"\"\n",
    "import os\n",
    "import sys\n",
    "\n",
    "import graph_tool.all as gt\n",
    "import networkit as nk\n",
    "import networkx as nx\n",
    "import numpy as np\n",
    "\n",
    "# Get directory first\n",
    "path = os.getcwd()\n",
    "par_dir = os.path.abspath(os.path.join(path, \"../\"))\n",
    "\n",
    "# Import own module\n",
    "sys.path.append(par_dir)\n",
    "if True:\n",
    "    from utils.graph_converter import NetworkConverter"
   ]
  },
  {
   "cell_type": "markdown",
   "metadata": {},
   "source": [
    "---\n",
    "\n",
    "Random Graph Speed Test"
   ]
  },
  {
   "cell_type": "code",
   "execution_count": 10,
   "metadata": {},
   "outputs": [
    {
     "name": "stdout",
     "output_type": "stream",
     "text": [
      "Networkx:\n",
      "142 ms ± 1.27 ms per loop (mean ± std. dev. of 7 runs, 10 loops each)\n",
      "Network Properties:\n",
      "nodes, edges\t\t\t1000, 149764\n",
      "directed?\t\t\tFalse\n",
      "weighted?\t\t\tFalse\n",
      "isolated nodes\t\t\t0\n",
      "self-loops\t\t\t0\n",
      "density\t\t\t\t0.299828\n",
      "clustering coefficient\t\t0.299841\n",
      "min/max/avg degree\t\t255, 343, 299.528000\n",
      "degree assortativity\t\t-0.001737\n",
      "number of connected components\t1\n",
      "size of largest component\t1000 (100.00 %)\n",
      "\n",
      "Networkit:\n",
      "3.57 ms ± 1.02 ms per loop (mean ± std. dev. of 7 runs, 100 loops each)\n",
      "Network Properties:\n",
      "nodes, edges\t\t\t1000, 149712\n",
      "directed?\t\t\tFalse\n",
      "weighted?\t\t\tFalse\n",
      "isolated nodes\t\t\t0\n",
      "self-loops\t\t\t0\n",
      "density\t\t\t\t0.299724\n",
      "clustering coefficient\t\t0.299629\n",
      "min/max/avg degree\t\t257, 345, 299.424000\n",
      "degree assortativity\t\t-0.001479\n",
      "number of connected components\t1\n",
      "size of largest component\t1000 (100.00 %)\n",
      "\n",
      "Graph Tool:\n",
      "26.4 ms ± 359 µs per loop (mean ± std. dev. of 7 runs, 10 loops each)\n"
     ]
    }
   ],
   "source": [
    "\"\"\"Testing random graph speed.\"\"\"\n",
    "n_nodes = 1000\n",
    "prob = 0.3\n",
    "\n",
    "print(\"Networkx:\")\n",
    "%timeit nx.erdos_renyi_graph(n=n_nodes, p=prob)\n",
    "nk.overview(nk.nxadapter.nx2nk(nx.erdos_renyi_graph(n=n_nodes, p=prob)))\n",
    "\n",
    "print(\"\\nNetworkit:\")\n",
    "%timeit nk.generators.ErdosRenyiGenerator(n_nodes, prob).generate()\n",
    "nk.overview(nk.generators.ErdosRenyiGenerator(n_nodes, prob).generate())\n",
    "\n",
    "\n",
    "print(\"\\nGraph Tool:\")\n",
    "\n",
    "\n",
    "def sample_k(max):\n",
    "    \"\"\"Sample example.\"\"\"\n",
    "    accept = False\n",
    "    while not accept:\n",
    "        k = np.random.randint(1, max + 1)\n",
    "        accept = np.random.random() < 1.0 / k\n",
    "    return k\n",
    "\n",
    "\n",
    "%timeit gt.random_graph(N=n_nodes, deg_sampler= lambda: sample_k(40), directed=False)\n",
    "graph = gt.random_graph(N=n_nodes, deg_sampler=lambda: sample_k(40), directed=False)"
   ]
  },
  {
   "cell_type": "markdown",
   "metadata": {},
   "source": [
    "---\n",
    "\n",
    "Barabasi-Albert Speed Test\n"
   ]
  },
  {
   "cell_type": "code",
   "execution_count": 11,
   "metadata": {},
   "outputs": [
    {
     "name": "stdout",
     "output_type": "stream",
     "text": [
      "Networkx:\n",
      "4.19 ms ± 9.96 µs per loop (mean ± std. dev. of 7 runs, 100 loops each)\n",
      "Network Properties:\n",
      "nodes, edges\t\t\t1000, 2991\n",
      "directed?\t\t\tFalse\n",
      "weighted?\t\t\tFalse\n",
      "isolated nodes\t\t\t0\n",
      "self-loops\t\t\t0\n",
      "density\t\t\t\t0.005988\n",
      "clustering coefficient\t\t0.027347\n",
      "min/max/avg degree\t\t2, 85, 5.982000\n",
      "degree assortativity\t\t0.304154\n",
      "number of connected components\t1\n",
      "size of largest component\t1000 (100.00 %)\n",
      "\n",
      "Networkit:\n",
      "115 µs ± 309 ns per loop (mean ± std. dev. of 7 runs, 10,000 loops each)\n",
      "Network Properties:\n",
      "nodes, edges\t\t\t1000, 2994\n",
      "directed?\t\t\tFalse\n",
      "weighted?\t\t\tFalse\n",
      "isolated nodes\t\t\t0\n",
      "self-loops\t\t\t0\n",
      "density\t\t\t\t0.005994\n",
      "clustering coefficient\t\t0.032660\n",
      "min/max/avg degree\t\t3, 97, 5.988000\n",
      "degree assortativity\t\t0.291063\n",
      "number of connected components\t1\n",
      "size of largest component\t1000 (100.00 %)\n"
     ]
    }
   ],
   "source": [
    "\"\"\"Testing Barabasi-speed test.\"\"\"\n",
    "n_nodes = 1000\n",
    "n_edges = 3\n",
    "\n",
    "print(\"Networkx:\")\n",
    "%timeit nx.barabasi_albert_graph(n=n_nodes, m=n_edges)\n",
    "nk.overview(nk.nxadapter.nx2nk(nx.barabasi_albert_graph(n=n_nodes, m=n_edges)))\n",
    "\n",
    "print(\"\\nNetworkit:\")\n",
    "%timeit nk.generators.BarabasiAlbertGenerator(k=n_edges,nMax=n_nodes).generate()\n",
    "nk.overview(nk.generators.BarabasiAlbertGenerator(k=n_edges, nMax=n_nodes).generate())"
   ]
  },
  {
   "cell_type": "markdown",
   "metadata": {},
   "source": [
    "\n",
    "---\n",
    "Coversion Speed Test"
   ]
  },
  {
   "cell_type": "code",
   "execution_count": 34,
   "metadata": {},
   "outputs": [
    {
     "name": "stdout",
     "output_type": "stream",
     "text": [
      "Networkx to Networkit:\n",
      "37.6 ms ± 70.6 µs per loop (mean ± std. dev. of 7 runs, 10 loops each)\n",
      "Networkit to Netowrkx:\n",
      "120 ms ± 379 µs per loop (mean ± std. dev. of 7 runs, 10 loops each)\n",
      "Networkx to Graph_tool:\n",
      "568 ms ± 2.07 ms per loop (mean ± std. dev. of 7 runs, 1 loop each)\n"
     ]
    }
   ],
   "source": [
    "\"\"\"Testing conversion speed.\"\"\"\n",
    "n_nodes = 1000\n",
    "prob = 0.3\n",
    "\n",
    "print(\"Networkx to Networkit:\")\n",
    "graph = nx.erdos_renyi_graph(n=n_nodes, p=prob)\n",
    "%timeit NetworkConverter.nx_to_nk(graph)\n",
    "\n",
    "print(\"Networkit to Networkx:\")\n",
    "graph = nk.generators.ErdosRenyiGenerator(n_nodes, prob).generate()\n",
    "%timeit NetworkConverter.nk_to_nx(graph)\n",
    "\n",
    "print(\"Networkx to Graph_tool:\")\n",
    "graph = graph = nx.erdos_renyi_graph(n=n_nodes, p=prob)\n",
    "%timeit NetworkConverter.nx_to_gt(graph)"
   ]
  },
  {
   "cell_type": "markdown",
   "metadata": {},
   "source": [
    "---\n",
    "\n",
    "Speed Test the different networkit algorithm to each other"
   ]
  },
  {
   "cell_type": "markdown",
   "metadata": {},
   "source": [
    "---\n",
    "\n",
    "### Testing the speed of various functions\n",
    "\n",
    "The purpose is to optimise python in order to have the best results once dealing with intense networks"
   ]
  },
  {
   "cell_type": "code",
   "execution_count": 24,
   "metadata": {},
   "outputs": [
    {
     "name": "stdout",
     "output_type": "stream",
     "text": [
      "\n",
      "Actuall Betweeness:\n",
      "[(88, 453.59910741391366), (84, 368.5642727022903), (11, 325.4226112243825), (66, 314.4442468492308), (24, 286.4503235584505)]\n",
      "383 µs ± 14 µs per loop (mean ± std. dev. of 7 runs, 1,000 loops each)\n",
      "\n",
      "ApproxBetweenness:\n",
      "[(88, 0.06403013182674197), (53, 0.03578154425612052), (21, 0.033898305084745756), (24, 0.033898305084745756), (84, 0.03201506591337099)]\n",
      "453 µs ± 21.8 µs per loop (mean ± std. dev. of 7 runs, 1,000 loops each)\n",
      "\n",
      "EstimateBetweenness:\n",
      "[(88, 0.056956814744384306), (84, 0.04495716804411559), (22, 0.032134717055968515), (24, 0.03148886552674701), (11, 0.030884188149110592)]\n",
      "1.47 ms ± 13.2 µs per loop (mean ± std. dev. of 7 runs, 1,000 loops each)\n",
      "\n",
      "KadabraBetweenness:\n",
      "[(88, 0.1105121293800539), (83, 0.0673854447439353), (26, 0.0646900269541779), (66, 0.06199460916442048), (84, 0.05660377358490566)]\n",
      "439 µs ± 24.4 µs per loop (mean ± std. dev. of 7 runs, 1,000 loops each)\n",
      "\n",
      "Graph-tool Betweeness:\n",
      "<VertexPropertyMap object with value type 'double', for Graph 0x7f03d47a06d0, at 0x7f03cf6e3970>\n",
      "CPU times: user 803 µs, sys: 11 µs, total: 814 µs\n",
      "Wall time: 319 µs\n"
     ]
    },
    {
     "data": {
      "text/plain": [
       "(<VertexPropertyMap object with value type 'double', for Graph 0x7f03d47a06d0, at 0x7f03c8f7fd90>,\n",
       " <EdgePropertyMap object with value type 'double', for Graph 0x7f03d47a06d0, at 0x7f03c8f7fb50>)"
      ]
     },
     "execution_count": 24,
     "metadata": {},
     "output_type": "execute_result"
    }
   ],
   "source": [
    "# create first graph\n",
    "n_nodes = 100\n",
    "prob = 0.1\n",
    "graph = nk.generators.ErdosRenyiGenerator(n_nodes, prob).generate()\n",
    "\n",
    "nx_graph = NetworkConverter.nk_to_nx(graph)\n",
    "gt_graph = NetworkConverter.nx_to_gt(nx_graph)\n",
    "\n",
    "# Inbetweeness\n",
    "\n",
    "print(\"\\nActuall Betweeness:\")\n",
    "btwn = nk.centrality.Betweenness(graph)\n",
    "btwn.run()\n",
    "print(btwn.ranking()[:5])\n",
    "%timeit btwn.run()\n",
    "\n",
    "print(\"\\nApproxBetweenness:\")\n",
    "ab = nk.centrality.ApproxBetweenness(graph, epsilon=0.1)\n",
    "ab.run()\n",
    "print(ab.ranking()[:5])\n",
    "%timeit ab.run()\n",
    "\n",
    "print(\"\\nEstimateBetweenness:\")\n",
    "est = nk.centrality.EstimateBetweenness(graph, 50, True, False)\n",
    "est.run()\n",
    "print(est.ranking()[:5])\n",
    "%timeit est.run()\n",
    "\n",
    "print(\"\\nKadabraBetweenness:\")\n",
    "kadabra = nk.centrality.KadabraBetweenness(graph, 0.05, 0.8)\n",
    "kadabra.run()\n",
    "print(kadabra.ranking()[:5])\n",
    "%timeit kadabra.run()"
   ]
  },
  {
   "cell_type": "markdown",
   "metadata": {},
   "source": [
    "Testing if yield is faster than return with the fibonacci sequence"
   ]
  },
  {
   "cell_type": "code",
   "execution_count": 14,
   "metadata": {},
   "outputs": [
    {
     "name": "stdout",
     "output_type": "stream",
     "text": [
      "Fibonacci sequence with yield:\n",
      "170 ms ± 1.5 ms per loop (mean ± std. dev. of 7 runs, 10 loops each)\n",
      "\n",
      "Fibonacci sequence with return:\n",
      "172 ms ± 568 µs per loop (mean ± std. dev. of 7 runs, 10 loops each)\n"
     ]
    }
   ],
   "source": [
    "def fib_yield(n):\n",
    "    \"\"\"Fibonacci sequence with yield.\"\"\"\n",
    "    a, b = 0, 1\n",
    "    for _ in range(n):\n",
    "        yield a\n",
    "        a, b = b, a + b\n",
    "\n",
    "\n",
    "def fib_return(n):\n",
    "    \"\"\"Fibonacci sequence with return.\"\"\"\n",
    "    a, b = 0, 1\n",
    "    sequence = []\n",
    "    for _ in range(n):\n",
    "        sequence.append(a)\n",
    "        a, b = b, a + b\n",
    "\n",
    "\n",
    "n = 100000\n",
    "print(\"Fibonacci sequence with yield:\")\n",
    "%timeit list(fib_yield(n))\n",
    "\n",
    "print(\"\\nFibonacci sequence with return:\")\n",
    "%timeit fib_return(n)"
   ]
  },
  {
   "cell_type": "markdown",
   "metadata": {},
   "source": [
    "---\n",
    "Testing if IF condition is faster than collect the all the values and get the min value"
   ]
  },
  {
   "cell_type": "code",
   "execution_count": 15,
   "metadata": {},
   "outputs": [
    {
     "name": "stdout",
     "output_type": "stream",
     "text": [
      "Radius with if condition:\n",
      "46.4 µs ± 468 ns per loop (mean ± std. dev. of 7 runs, 10,000 loops each)\n",
      "Radius is 2\n",
      "\n",
      "Radius with predefined list:\n",
      "53.9 µs ± 199 ns per loop (mean ± std. dev. of 7 runs, 10,000 loops each)\n",
      "Radius is 2.0\n"
     ]
    }
   ],
   "source": [
    "n_edges = 4\n",
    "n_nodes = 50\n",
    "random_network = nk.generators.BarabasiAlbertGenerator(\n",
    "    k=n_edges, nMax=n_nodes\n",
    ").generate()\n",
    "\n",
    "\n",
    "def get_radius_if_cond(network):\n",
    "    \"\"\"Get the radius (min eccentricity) using if condition.\"\"\"\n",
    "    radius = np.inf\n",
    "\n",
    "    for node in network.iterNodes():\n",
    "        new_radius = nk.distance.Eccentricity.getValue(network, node)[1]\n",
    "        if new_radius < radius:\n",
    "            radius = new_radius\n",
    "\n",
    "    return radius\n",
    "\n",
    "\n",
    "def get_radius_def_list(network):\n",
    "    \"\"\"Get the radius (min eccentricity) using if condition.\"\"\"\n",
    "    # predefine the len of the list for speed\n",
    "    radius = np.zeros(random_network.numberOfNodes())\n",
    "    # to append to the right idx in the list\n",
    "    iterator = iter(range(0, network.numberOfNodes()))\n",
    "\n",
    "    for node in network.iterNodes():\n",
    "        radius[next(iterator)] = nk.distance.Eccentricity.getValue(network, node)[1]\n",
    "\n",
    "    return min(radius)\n",
    "\n",
    "\n",
    "print(\"Radius with if condition:\")\n",
    "%timeit get_radius_if_cond(random_network)\n",
    "print(f\"Radius is {get_radius_if_cond(random_network)}\")\n",
    "\n",
    "print(\"\\nRadius with predefined list:\")\n",
    "%timeit get_radius_def_list(random_network)\n",
    "print(f\"Radius is {get_radius_def_list(random_network)}\")"
   ]
  }
 ],
 "metadata": {
  "interpreter": {
   "hash": "1fe4aacc162c68fa2b6d9d553bee24a2593cf30c4dc606bf8c91e878b2bbb459"
  },
  "kernelspec": {
   "display_name": "Python 3 (ipykernel)",
   "language": "python",
   "name": "python3"
  },
  "language_info": {
   "codemirror_mode": {
    "name": "ipython",
    "version": 3
   },
   "file_extension": ".py",
   "mimetype": "text/x-python",
   "name": "python",
   "nbconvert_exporter": "python",
   "pygments_lexer": "ipython3",
   "version": "3.8.10"
  }
 },
 "nbformat": 4,
 "nbformat_minor": 2
}
