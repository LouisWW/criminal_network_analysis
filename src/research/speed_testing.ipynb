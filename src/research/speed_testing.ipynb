{
 "cells": [
  {
   "cell_type": "markdown",
   "metadata": {},
   "source": [
    "# Speed testing\n",
    "\n",
    "Purpose of this Notebook is to test the speed of different packages/functions\n",
    "to achieve a fast simulation process\n",
    "\n",
    "---"
   ]
  },
  {
   "cell_type": "markdown",
   "metadata": {},
   "source": [
    "\n",
    "### Networkit vs Netowrkx vs Graph Tool\n",
    "\n",
    "The purpose is to test which methods from networkx or networkit or graph tool are faster \n",
    "to ensure optimal coding experience"
   ]
  },
  {
   "cell_type": "code",
   "execution_count": 25,
   "metadata": {},
   "outputs": [
    {
     "ename": "TypeError",
     "evalue": "__init__() got an unexpected keyword argument 'attachment_meth'",
     "output_type": "error",
     "traceback": [
      "\u001b[0;31m---------------------------------------------------------------------------\u001b[0m",
      "\u001b[0;31mTypeError\u001b[0m                                 Traceback (most recent call last)",
      "\u001b[1;32m/home/louis/git/criminal_network_analysis/src/research/speed_testing.ipynb Cell 3\u001b[0m in \u001b[0;36m<cell line: 23>\u001b[0;34m()\u001b[0m\n\u001b[1;32m     <a href='vscode-notebook-cell:/home/louis/git/criminal_network_analysis/src/research/speed_testing.ipynb#ch0000002?line=19'>20</a>\u001b[0m     \u001b[39mfrom\u001b[39;00m \u001b[39msimulators\u001b[39;00m\u001b[39m.\u001b[39;00m\u001b[39mmeta_simulator\u001b[39;00m \u001b[39mimport\u001b[39;00m MetaSimulator\n\u001b[1;32m     <a href='vscode-notebook-cell:/home/louis/git/criminal_network_analysis/src/research/speed_testing.ipynb#ch0000002?line=20'>21</a>\u001b[0m     \u001b[39mfrom\u001b[39;00m \u001b[39mutils\u001b[39;00m\u001b[39m.\u001b[39;00m\u001b[39mmt_random_c\u001b[39;00m \u001b[39mimport\u001b[39;00m random_c\n\u001b[0;32m---> <a href='vscode-notebook-cell:/home/louis/git/criminal_network_analysis/src/research/speed_testing.ipynb#ch0000002?line=22'>23</a>\u001b[0m meta_sim \u001b[39m=\u001b[39m MetaSimulator(\n\u001b[1;32m     <a href='vscode-notebook-cell:/home/louis/git/criminal_network_analysis/src/research/speed_testing.ipynb#ch0000002?line=23'>24</a>\u001b[0m     network_name\u001b[39m=\u001b[39;49m\u001b[39m\"\u001b[39;49m\u001b[39mmontagna_calls\u001b[39;49m\u001b[39m\"\u001b[39;49m, \n\u001b[1;32m     <a href='vscode-notebook-cell:/home/louis/git/criminal_network_analysis/src/research/speed_testing.ipynb#ch0000002?line=24'>25</a>\u001b[0m     attachment_meth\u001b[39m=\u001b[39;49m\u001b[39m'\u001b[39;49m\u001b[39mrandom\u001b[39;49m\u001b[39m'\u001b[39;49m,\n\u001b[1;32m     <a href='vscode-notebook-cell:/home/louis/git/criminal_network_analysis/src/research/speed_testing.ipynb#ch0000002?line=25'>26</a>\u001b[0m     ratio_honest\u001b[39m=\u001b[39;49m\u001b[39m0.9\u001b[39;49m, ratio_wolf\u001b[39m=\u001b[39;49m\u001b[39m0.08\u001b[39;49m\n\u001b[1;32m     <a href='vscode-notebook-cell:/home/louis/git/criminal_network_analysis/src/research/speed_testing.ipynb#ch0000002?line=26'>27</a>\u001b[0m )\n\u001b[1;32m     <a href='vscode-notebook-cell:/home/louis/git/criminal_network_analysis/src/research/speed_testing.ipynb#ch0000002?line=28'>29</a>\u001b[0m get_ipython()\u001b[39m.\u001b[39mrun_line_magic(\u001b[39m'\u001b[39m\u001b[39mload_ext\u001b[39m\u001b[39m'\u001b[39m, \u001b[39m'\u001b[39m\u001b[39mcython\u001b[39m\u001b[39m'\u001b[39m)\n\u001b[1;32m     <a href='vscode-notebook-cell:/home/louis/git/criminal_network_analysis/src/research/speed_testing.ipynb#ch0000002?line=29'>30</a>\u001b[0m get_ipython()\u001b[39m.\u001b[39mrun_line_magic(\u001b[39m'\u001b[39m\u001b[39mload_ext\u001b[39m\u001b[39m'\u001b[39m, \u001b[39m'\u001b[39m\u001b[39mline_profiler\u001b[39m\u001b[39m'\u001b[39m)\n",
      "\u001b[0;31mTypeError\u001b[0m: __init__() got an unexpected keyword argument 'attachment_meth'"
     ]
    }
   ],
   "source": [
    "\"\"\"Import necessary packages.\"\"\"\n",
    "import os\n",
    "import random\n",
    "import sys\n",
    "\n",
    "import graph_tool.all as gt\n",
    "import networkit as nk\n",
    "import networkx as nx\n",
    "import numpy as np\n",
    "\n",
    "# Get directory first\n",
    "path = os.getcwd()\n",
    "par_dir = os.path.abspath(os.path.join(path, \"../\"))\n",
    "# Import own module\n",
    "sys.path.append(par_dir)\n",
    "if True:\n",
    "    from network_utils.network_combiner import NetworkCombiner\n",
    "    from network_utils.network_converter import NetworkConverter\n",
    "    from network_utils.network_reader import NetworkReader\n",
    "    from simulators.meta_simulator import MetaSimulator\n",
    "    from utils.mt_random_c import random_c\n",
    "\n",
    "meta_sim = MetaSimulator(\n",
    "    network_name=\"montagna_calls\", \n",
    "    attachment_method='random',\n",
    "    ratio_honest=0.9, ratio_wolf=0.08\n",
    ")\n",
    "\n",
    "%load_ext cython\n",
    "%load_ext line_profiler"
   ]
  },
  {
   "cell_type": "markdown",
   "metadata": {},
   "source": [
    "---\n",
    "\n",
    "Random Graph Speed Test"
   ]
  },
  {
   "cell_type": "code",
   "execution_count": 10,
   "metadata": {},
   "outputs": [
    {
     "name": "stdout",
     "output_type": "stream",
     "text": [
      "Networkx:\n",
      "134 ms ± 3.09 ms per loop (mean ± std. dev. of 7 runs, 10 loops each)\n",
      "Network Properties:\n",
      "nodes, edges\t\t\t1000, 150195\n",
      "directed?\t\t\tFalse\n",
      "weighted?\t\t\tFalse\n",
      "isolated nodes\t\t\t0\n",
      "self-loops\t\t\t0\n",
      "density\t\t\t\t0.300691\n",
      "clustering coefficient\t\t0.300785\n",
      "min/max/avg degree\t\t257, 343, 300.390000\n",
      "degree assortativity\t\t-0.005037\n",
      "number of connected components\t1\n",
      "size of largest component\t1000 (100.00 %)\n",
      "\n",
      "Networkit:\n",
      "2.45 ms ± 52.8 µs per loop (mean ± std. dev. of 7 runs, 100 loops each)\n",
      "Network Properties:\n",
      "nodes, edges\t\t\t1000, 149343\n",
      "directed?\t\t\tFalse\n",
      "weighted?\t\t\tFalse\n",
      "isolated nodes\t\t\t0\n",
      "self-loops\t\t\t0\n",
      "density\t\t\t\t0.298985\n",
      "clustering coefficient\t\t0.299122\n",
      "min/max/avg degree\t\t249, 341, 298.686000\n",
      "degree assortativity\t\t0.000588\n",
      "number of connected components\t1\n",
      "size of largest component\t1000 (100.00 %)\n",
      "\n",
      "Graph Tool:\n",
      "26.3 ms ± 267 µs per loop (mean ± std. dev. of 7 runs, 10 loops each)\n"
     ]
    }
   ],
   "source": [
    "\"\"\"Testing random graph speed.\"\"\"\n",
    "n_nodes = 1000\n",
    "prob = 0.3\n",
    "\n",
    "print(\"Networkx:\")\n",
    "%timeit nx.erdos_renyi_graph(n=n_nodes, p=prob)\n",
    "nk.overview(nk.nxadapter.nx2nk(nx.erdos_renyi_graph(n=n_nodes, p=prob)))\n",
    "\n",
    "print(\"\\nNetworkit:\")\n",
    "%timeit nk.generators.ErdosRenyiGenerator(n_nodes, prob).generate()\n",
    "nk.overview(nk.generators.ErdosRenyiGenerator(n_nodes, prob).generate())\n",
    "\n",
    "\n",
    "print(\"\\nGraph Tool:\")\n",
    "\n",
    "\n",
    "def sample_k(max):\n",
    "    \"\"\"Sample example.\"\"\"\n",
    "    accept = False\n",
    "    while not accept:\n",
    "        k = np.random.randint(1, max + 1)\n",
    "        accept = np.random.random() < 1.0 / k\n",
    "    return k\n",
    "\n",
    "\n",
    "%timeit gt.random_graph(N=n_nodes, deg_sampler= lambda: sample_k(40), directed=False)\n",
    "graph = gt.random_graph(N=n_nodes, deg_sampler=lambda: sample_k(40), directed=False)"
   ]
  },
  {
   "cell_type": "markdown",
   "metadata": {},
   "source": [
    "---\n",
    "\n",
    "Barabasi-Albert Speed Test\n"
   ]
  },
  {
   "cell_type": "code",
   "execution_count": 11,
   "metadata": {},
   "outputs": [
    {
     "name": "stdout",
     "output_type": "stream",
     "text": [
      "Networkx:\n",
      "4.19 ms ± 9.96 µs per loop (mean ± std. dev. of 7 runs, 100 loops each)\n",
      "Network Properties:\n",
      "nodes, edges\t\t\t1000, 2991\n",
      "directed?\t\t\tFalse\n",
      "weighted?\t\t\tFalse\n",
      "isolated nodes\t\t\t0\n",
      "self-loops\t\t\t0\n",
      "density\t\t\t\t0.005988\n",
      "clustering coefficient\t\t0.027347\n",
      "min/max/avg degree\t\t2, 85, 5.982000\n",
      "degree assortativity\t\t0.304154\n",
      "number of connected components\t1\n",
      "size of largest component\t1000 (100.00 %)\n",
      "\n",
      "Networkit:\n",
      "115 µs ± 309 ns per loop (mean ± std. dev. of 7 runs, 10,000 loops each)\n",
      "Network Properties:\n",
      "nodes, edges\t\t\t1000, 2994\n",
      "directed?\t\t\tFalse\n",
      "weighted?\t\t\tFalse\n",
      "isolated nodes\t\t\t0\n",
      "self-loops\t\t\t0\n",
      "density\t\t\t\t0.005994\n",
      "clustering coefficient\t\t0.032660\n",
      "min/max/avg degree\t\t3, 97, 5.988000\n",
      "degree assortativity\t\t0.291063\n",
      "number of connected components\t1\n",
      "size of largest component\t1000 (100.00 %)\n"
     ]
    }
   ],
   "source": [
    "\"\"\"Testing Barabasi-speed test.\"\"\"\n",
    "n_nodes = 1000\n",
    "n_edges = 3\n",
    "\n",
    "print(\"Networkx:\")\n",
    "%timeit nx.barabasi_albert_graph(n=n_nodes, m=n_edges)\n",
    "nk.overview(nk.nxadapter.nx2nk(nx.barabasi_albert_graph(n=n_nodes, m=n_edges)))\n",
    "\n",
    "print(\"\\nNetworkit:\")\n",
    "%timeit nk.generators.BarabasiAlbertGenerator(k=n_edges,nMax=n_nodes).generate()\n",
    "nk.overview(nk.generators.BarabasiAlbertGenerator(k=n_edges, nMax=n_nodes).generate())"
   ]
  },
  {
   "cell_type": "markdown",
   "metadata": {},
   "source": [
    "\n",
    "---\n",
    "Coversion Speed Test"
   ]
  },
  {
   "cell_type": "code",
   "execution_count": 7,
   "metadata": {},
   "outputs": [
    {
     "name": "stdout",
     "output_type": "stream",
     "text": [
      "\n",
      "Networkx to Networkit:\n",
      "932 ms ± 4.58 ms per loop (mean ± std. dev. of 7 runs, 1 loop each)\n",
      "\n",
      "Networkit to Networkx:\n",
      "3.34 s ± 36 ms per loop (mean ± std. dev. of 7 runs, 1 loop each)\n",
      "\n",
      "Networkx to Graph_tool:\n",
      "14.4 s ± 139 ms per loop (mean ± std. dev. of 7 runs, 1 loop each)\n",
      "\n",
      "Graph_tool to Networkx:\n"
     ]
    },
    {
     "name": "stderr",
     "output_type": "stream",
     "text": [
      "WARNING:logger:labelname should be set to 'id'!\n",
      "WARNING:logger:labelname should be set to 'id'!\n",
      "WARNING:logger:labelname should be set to 'id'!\n",
      "WARNING:logger:labelname should be set to 'id'!\n",
      "WARNING:logger:labelname should be set to 'id'!\n",
      "WARNING:logger:labelname should be set to 'id'!\n",
      "WARNING:logger:labelname should be set to 'id'!\n",
      "WARNING:logger:labelname should be set to 'id'!\n"
     ]
    },
    {
     "name": "stdout",
     "output_type": "stream",
     "text": [
      "15.2 s ± 97.2 ms per loop (mean ± std. dev. of 7 runs, 1 loop each)\n",
      "\n",
      "Graph_tool to Networkit:\n",
      "1.34 s ± 4.97 ms per loop (mean ± std. dev. of 7 runs, 1 loop each)\n",
      "\n",
      "Neworkit to Graph_tool:\n",
      "13.2 s ± 137 ms per loop (mean ± std. dev. of 7 runs, 1 loop each)\n"
     ]
    }
   ],
   "source": [
    "\"\"\"Testing conversion speed.\"\"\"\n",
    "n_nodes = 5000\n",
    "prob = 0.3\n",
    "\n",
    "nx_graph = nx.erdos_renyi_graph(n=n_nodes, p=prob)\n",
    "nk_graph = nk.generators.ErdosRenyiGenerator(n_nodes, prob).generate()\n",
    "gt_graph = NetworkConverter.nx_to_gt(nx_graph)\n",
    "\n",
    "print(\"\\nNetworkx to Networkit:\")\n",
    "%timeit NetworkConverter.nx_to_nk(nx_graph)\n",
    "\n",
    "print(\"\\nNetworkit to Networkx:\")\n",
    "%timeit NetworkConverter.nk_to_nx(nk_graph)\n",
    "\n",
    "print(\"\\nNetworkx to Graph_tool:\")\n",
    "%timeit NetworkConverter.nx_to_gt(nx_graph)\n",
    "\n",
    "print(\"\\nGraph_tool to Networkx:\")\n",
    "%timeit NetworkConverter.gt_to_nx(gt_graph)\n",
    "\n",
    "print(\"\\nGraph_tool to Networkit:\")\n",
    "%timeit NetworkConverter.gt_to_nk(gt_graph)\n",
    "\n",
    "print(\"\\nNeworkit to Graph_tool:\")\n",
    "%timeit NetworkConverter.nk_to_gt(nk_graph)"
   ]
  },
  {
   "cell_type": "markdown",
   "metadata": {},
   "source": [
    "---\n",
    "\n",
    "Speed Test the different networkit algorithm to each other"
   ]
  },
  {
   "cell_type": "markdown",
   "metadata": {},
   "source": [
    "---\n",
    "\n",
    "### Testing the speed of various functions\n",
    "\n",
    "The purpose is to optimise python in order to have the best results once dealing with intense networks"
   ]
  },
  {
   "cell_type": "code",
   "execution_count": 3,
   "metadata": {},
   "outputs": [
    {
     "name": "stdout",
     "output_type": "stream",
     "text": [
      "\n",
      "Actuall Betweeness:\n",
      "[(649, 1553.3239293741933), (33, 1512.7341964269292), (799, 1511.560738487518), (520, 1444.8862672709363), (609, 1436.119080696174)]\n",
      "50.2 ms ± 548 µs per loop (mean ± std. dev. of 7 runs, 10 loops each)\n",
      "\n",
      "ApproxBetweenness:\n",
      "[(596, 0.009280742459396751), (341, 0.0069605568445475635), (346, 0.0069605568445475635), (348, 0.0069605568445475635), (594, 0.0069605568445475635)]\n",
      "12.6 ms ± 170 µs per loop (mean ± std. dev. of 7 runs, 100 loops each)\n",
      "\n",
      "EstimateBetweenness:\n",
      "[(575, 0.0028346081860362838), (739, 0.002510685825083123), (862, 0.0025091905178749106), (561, 0.002396430642841699), (584, 0.0023683847499349152)]\n",
      "40.8 ms ± 716 µs per loop (mean ± std. dev. of 7 runs, 10 loops each)\n",
      "\n",
      "KadabraBetweenness:\n",
      "[(49, 0.013888888888888888), (83, 0.00992063492063492), (55, 0.00992063492063492), (38, 0.00992063492063492), (416, 0.00992063492063492)]\n",
      "7.34 ms ± 97 µs per loop (mean ± std. dev. of 7 runs, 100 loops each)\n",
      "\n",
      "Betweennes graphtool:\n",
      "34.9 ms ± 287 µs per loop (mean ± std. dev. of 7 runs, 10 loops each)\n"
     ]
    }
   ],
   "source": [
    "# create first graph\n",
    "n_nodes = 1000\n",
    "prob = 0.1\n",
    "graph = nk.generators.ErdosRenyiGenerator(n_nodes, prob).generate()\n",
    "\n",
    "nx_graph = NetworkConverter.nk_to_nx(graph)\n",
    "gt_graph = NetworkConverter.nx_to_gt(nx_graph)\n",
    "\n",
    "# Inbetweeness\n",
    "\n",
    "print(\"\\nActuall Betweeness:\")\n",
    "btwn = nk.centrality.Betweenness(graph)\n",
    "btwn.run()\n",
    "print(btwn.ranking()[:5])\n",
    "%timeit btwn.run()\n",
    "\n",
    "print(\"\\nApproxBetweenness:\")\n",
    "ab = nk.centrality.ApproxBetweenness(graph, epsilon=0.1)\n",
    "ab.run()\n",
    "print(ab.ranking()[:5])\n",
    "%timeit ab.run()\n",
    "\n",
    "print(\"\\nEstimateBetweenness:\")\n",
    "est = nk.centrality.EstimateBetweenness(graph, 50, True, False)\n",
    "est.run()\n",
    "print(est.ranking()[:5])\n",
    "%timeit est.run()\n",
    "\n",
    "print(\"\\nKadabraBetweenness:\")\n",
    "kadabra = nk.centrality.KadabraBetweenness(graph, 0.05, 0.8)\n",
    "kadabra.run()\n",
    "print(kadabra.ranking()[:5])\n",
    "%timeit kadabra.run()\n",
    "\n",
    "print(\"\\nBetweennes graphtool:\")\n",
    "%timeit gt.betweenness(gt_graph)"
   ]
  },
  {
   "cell_type": "markdown",
   "metadata": {},
   "source": [
    "Testing if yield is faster than return with the fibonacci sequence"
   ]
  },
  {
   "cell_type": "code",
   "execution_count": 14,
   "metadata": {},
   "outputs": [
    {
     "name": "stdout",
     "output_type": "stream",
     "text": [
      "Fibonacci sequence with yield:\n",
      "170 ms ± 1.5 ms per loop (mean ± std. dev. of 7 runs, 10 loops each)\n",
      "\n",
      "Fibonacci sequence with return:\n",
      "172 ms ± 568 µs per loop (mean ± std. dev. of 7 runs, 10 loops each)\n"
     ]
    }
   ],
   "source": [
    "def fib_yield(n):\n",
    "    \"\"\"Fibonacci sequence with yield.\"\"\"\n",
    "    a, b = 0, 1\n",
    "    for _ in range(n):\n",
    "        yield a\n",
    "        a, b = b, a + b\n",
    "\n",
    "\n",
    "def fib_return(n):\n",
    "    \"\"\"Fibonacci sequence with return.\"\"\"\n",
    "    a, b = 0, 1\n",
    "    sequence = []\n",
    "    for _ in range(n):\n",
    "        sequence.append(a)\n",
    "        a, b = b, a + b\n",
    "\n",
    "\n",
    "n = 100000\n",
    "print(\"Fibonacci sequence with yield:\")\n",
    "%timeit list(fib_yield(n))\n",
    "\n",
    "print(\"\\nFibonacci sequence with return:\")\n",
    "%timeit fib_return(n)"
   ]
  },
  {
   "cell_type": "markdown",
   "metadata": {},
   "source": [
    "---\n",
    "Testing if IF condition is faster than collect the all the values and get the min value"
   ]
  },
  {
   "cell_type": "code",
   "execution_count": 15,
   "metadata": {},
   "outputs": [
    {
     "name": "stdout",
     "output_type": "stream",
     "text": [
      "Radius with numpy:\n",
      "182 µs ± 1.01 µs per loop (mean ± std. dev. of 7 runs, 10,000 loops each)\n",
      "Radius is 0\n",
      "\n",
      "Radius with predefined list:\n",
      "169 µs ± 3.16 µs per loop (mean ± std. dev. of 7 runs, 10,000 loops each)\n",
      "Radius is 0\n"
     ]
    }
   ],
   "source": [
    "n_edges = 4\n",
    "n_nodes = 50\n",
    "random_network = nk.generators.BarabasiAlbertGenerator(\n",
    "    k=n_edges, nMax=n_nodes\n",
    ").generate()\n",
    "\n",
    "\n",
    "def get_radius(network):\n",
    "    \"\"\"Get the radius of a graph which is the minimum eccentricity.\"\"\"\n",
    "    # predefine the len of the list for speed\n",
    "    eccentricity = np.zeros(network.numberOfNodes(), dtype=np.int64)\n",
    "    # to append to the right idx in the list\n",
    "    iterator = iter(range(0, network.numberOfNodes()))\n",
    "\n",
    "    for node in network.iterNodes():\n",
    "        eccentricity[next(iterator)] = nk.distance.Eccentricity.getValue(network, node)[\n",
    "            1\n",
    "        ]\n",
    "\n",
    "    radius = np.min(eccentricity)\n",
    "    return int(radius)\n",
    "\n",
    "\n",
    "def get_radius_slow(network):\n",
    "    \"\"\"Get the radius of a graph which is the minimum eccentricity.\"\"\"\n",
    "    # predefine the len of the list for speed\n",
    "    eccentricity = []\n",
    "\n",
    "    for node in network.iterNodes():\n",
    "        eccentricity.append(nk.distance.Eccentricity.getValue(network, node)[1])\n",
    "\n",
    "    radius = min(eccentricity)\n",
    "    return int(radius)\n",
    "\n",
    "\n",
    "print(\"Radius with numpy:\")\n",
    "%timeit get_radius(random_network)\n",
    "print(f\"Radius is {get_radius(random_network)}\")\n",
    "\n",
    "print(\"\\nRadius with predefined list:\")\n",
    "%timeit get_radius_slow(random_network)\n",
    "print(f\"Radius is {get_radius_slow(random_network)}\")"
   ]
  },
  {
   "cell_type": "markdown",
   "metadata": {},
   "source": [
    "---\n",
    "Testing list vs numpy array manipulation"
   ]
  },
  {
   "cell_type": "code",
   "execution_count": 1,
   "metadata": {},
   "outputs": [
    {
     "ename": "NameError",
     "evalue": "name 'nk' is not defined",
     "output_type": "error",
     "traceback": [
      "\u001b[0;31m---------------------------------------------------------------------------\u001b[0m",
      "\u001b[0;31mNameError\u001b[0m                                 Traceback (most recent call last)",
      "\u001b[1;32m/home/louis/git/criminal_network_analysis/src/research/speed_testing.ipynb Cell 18'\u001b[0m in \u001b[0;36m<module>\u001b[0;34m\u001b[0m\n\u001b[1;32m      <a href='vscode-notebook-cell:/home/louis/git/criminal_network_analysis/src/research/speed_testing.ipynb#ch0000017?line=0'>1</a>\u001b[0m n_nodes \u001b[39m=\u001b[39m \u001b[39m1000\u001b[39m\n\u001b[1;32m      <a href='vscode-notebook-cell:/home/louis/git/criminal_network_analysis/src/research/speed_testing.ipynb#ch0000017?line=1'>2</a>\u001b[0m prob \u001b[39m=\u001b[39m \u001b[39m3\u001b[39m\n\u001b[0;32m----> <a href='vscode-notebook-cell:/home/louis/git/criminal_network_analysis/src/research/speed_testing.ipynb#ch0000017?line=2'>3</a>\u001b[0m network \u001b[39m=\u001b[39m nk\u001b[39m.\u001b[39mgenerators\u001b[39m.\u001b[39mErdosRenyiGenerator(n_nodes, prob)\u001b[39m.\u001b[39mgenerate()\n\u001b[1;32m      <a href='vscode-notebook-cell:/home/louis/git/criminal_network_analysis/src/research/speed_testing.ipynb#ch0000017?line=4'>5</a>\u001b[0m apsp \u001b[39m=\u001b[39m nk\u001b[39m.\u001b[39mdistance\u001b[39m.\u001b[39mAPSP(network)\n\u001b[1;32m      <a href='vscode-notebook-cell:/home/louis/git/criminal_network_analysis/src/research/speed_testing.ipynb#ch0000017?line=5'>6</a>\u001b[0m apsp\u001b[39m.\u001b[39mrun()\n",
      "\u001b[0;31mNameError\u001b[0m: name 'nk' is not defined"
     ]
    }
   ],
   "source": [
    "n_nodes = 1000\n",
    "prob = 3\n",
    "network = nk.generators.ErdosRenyiGenerator(n_nodes, prob).generate()\n",
    "\n",
    "apsp = nk.distance.APSP(network)\n",
    "apsp.run()\n",
    "# Vector of list for each node to each node\n",
    "vector_of_dist = apsp.getDistances()\n",
    "\n",
    "print(\"\\nUsing list comprehension\")\n",
    "%timeit list(itertools.chain.from_iterable(vector_of_dist))\n",
    "l_list_dist = list(itertools.chain.from_iterable(vector_of_dist))\n",
    "\n",
    "%timeit list(filter(lambda a: a != 0, l_list_dist))\n",
    "l_list_dist = list(filter(lambda a: a != 0, l_list_dist))\n",
    "\n",
    "%timeit list(map(lambda x: 1/x, l_list_dist))\n",
    "l_inv = list(map(lambda x: 1 / x, l_list_dist))\n",
    "\n",
    "print(\"\\nUsing numpy comprehension:\")\n",
    "%timeit np.hstack(vector_of_dist)\n",
    "np_list_dist = np.hstack(vector_of_dist)\n",
    "\n",
    "%timeit np_list_dist[np_list_dist != 0]\n",
    "np_list_dist = np_list_dist[np_list_dist != 0]\n",
    "\n",
    "%timeit np.reciprocal(np_list_dist)\n",
    "np_inv = np.reciprocal(np_list_dist)\n",
    "\n",
    "\n",
    "# Compare results\n",
    "n = network.numberOfNodes()\n",
    "l_efficiency = (1 / (n * (n - 1))) * np.mean(l_inv)\n",
    "print(\"\\nList comprehension results :\", l_efficiency)\n",
    "np_efficiency = (1 / (n * (n - 1))) * np.mean(np_inv)\n",
    "print(\"\\nNumpy comprehension results :\", np_efficiency)"
   ]
  },
  {
   "cell_type": "markdown",
   "metadata": {},
   "source": [
    "---\n",
    "Test the speed of NetworkCombiner"
   ]
  },
  {
   "cell_type": "code",
   "execution_count": 3,
   "metadata": {},
   "outputs": [
    {
     "name": "stdout",
     "output_type": "stream",
     "text": [
      "11.2 s ± 1.12 s per loop (mean ± std. dev. of 7 runs, 1 loop each)\n"
     ]
    }
   ],
   "source": [
    "network = NetworkReader().read_cunha()\n",
    "gt_network = NetworkConverter.nx_to_gt(network)\n",
    "#%timeit NetworkCombiner.combine_by_preferential_attachment_faster(gt_network,500,2)\n",
    "%timeit NetworkCombiner.combine_by_random_attachment_faster(gt_network,400,0.5)"
   ]
  },
  {
   "cell_type": "markdown",
   "metadata": {},
   "source": [
    "---\n",
    "Test the speed of the counting_status_proprotions"
   ]
  },
  {
   "cell_type": "code",
   "execution_count": 19,
   "metadata": {},
   "outputs": [
    {
     "name": "stdout",
     "output_type": "stream",
     "text": [
      "8.01 ms ± 122 µs per loop (mean ± std. dev. of 7 runs, 100 loops each)\n"
     ]
    }
   ],
   "source": [
    "import pandas as pd\n",
    "\n",
    "\n",
    "def get_overall_fitness_distribution(network, group_members):\n",
    "    \"\"\"Get the mean fitness for the different states in a group.\"\"\"\n",
    "    statuses = list(network.vp.state)\n",
    "    fitness = network.vp.fitness.a\n",
    "\n",
    "    df = pd.DataFrame(list(zip(statuses, fitness)), columns=[\"statuses\", \"fitness\"])\n",
    "\n",
    "    df_grouped = df.groupby(\"statuses\", as_index=False)[\"fitness\"].mean()\n",
    "    try:\n",
    "        mean_h_fit = df_grouped.loc[df_grouped[\"statuses\"] == \"h\", \"fitness\"].values[0]\n",
    "    except Exception:\n",
    "        mean_h_fit = None\n",
    "    try:\n",
    "        mean_c_fit = df_grouped.loc[df_grouped[\"statuses\"] == \"c\", \"fitness\"].values[0]\n",
    "    except Exception:\n",
    "        mean_c_fit = None\n",
    "    try:\n",
    "        mean_w_fit = df_grouped.loc[df_grouped[\"statuses\"] == \"w\", \"fitness\"].values[0]\n",
    "    except Exception:\n",
    "        mean_w_fit = None\n",
    "\n",
    "    return mean_h_fit, mean_c_fit, mean_w_fit\n",
    "\n",
    "\n",
    "%timeit get_overall_fitness_distribution(meta_sim.network,range(0,meta_sim.network.num_vertices()))"
   ]
  },
  {
   "cell_type": "code",
   "execution_count": 14,
   "metadata": {},
   "outputs": [
    {
     "name": "stdout",
     "output_type": "stream",
     "text": [
      "[0. 0. 0. ... 0. 0. 0.]\n"
     ]
    }
   ],
   "source": [
    "print(meta_sim.network.vp.fitness.a)"
   ]
  },
  {
   "cell_type": "code",
   "execution_count": 24,
   "metadata": {},
   "outputs": [
    {
     "ename": "AttributeError",
     "evalue": "'range' object has no attribute 'shape'",
     "output_type": "error",
     "traceback": [
      "\u001b[0;31m---------------------------------------------------------------------------\u001b[0m",
      "\u001b[0;31mAttributeError\u001b[0m                            Traceback (most recent call last)",
      "\u001b[1;32m/home/louis/git/criminal_network_analysis/src/research/speed_testing.ipynb Cell 24'\u001b[0m in \u001b[0;36m<cell line: 1>\u001b[0;34m()\u001b[0m\n\u001b[0;32m----> <a href='vscode-notebook-cell:/home/louis/git/criminal_network_analysis/src/research/speed_testing.ipynb#ch0000024?line=0'>1</a>\u001b[0m \u001b[39mprint\u001b[39m(meta_sim\u001b[39m.\u001b[39;49mnetwork\u001b[39m.\u001b[39;49mvp\u001b[39m.\u001b[39;49mstate\u001b[39m.\u001b[39;49mset_2d_array(\u001b[39mrange\u001b[39;49m(\u001b[39m0\u001b[39;49m,meta_sim\u001b[39m.\u001b[39;49mnetwork\u001b[39m.\u001b[39;49mnum_vertices())))\n",
      "File \u001b[0;32m~/.local/share/virtualenvs/criminal_network_analysis-7tqkjw2s/lib/python3.8/site-packages/graph_tool/__init__.py:655\u001b[0m, in \u001b[0;36mPropertyMap.set_2d_array\u001b[0;34m(self, a, pos)\u001b[0m\n\u001b[1;32m    <a href='file:///home/louis/.local/share/virtualenvs/criminal_network_analysis-7tqkjw2s/lib/python3.8/site-packages/graph_tool/__init__.py?line=652'>653</a>\u001b[0m     \u001b[39mraise\u001b[39;00m \u001b[39mValueError\u001b[39;00m(\u001b[39m\"\u001b[39m\u001b[39mCannot set multidimensional array for graph property maps.\u001b[39m\u001b[39m\"\u001b[39m)\n\u001b[1;32m    <a href='file:///home/louis/.local/share/virtualenvs/criminal_network_analysis-7tqkjw2s/lib/python3.8/site-packages/graph_tool/__init__.py?line=653'>654</a>\u001b[0m \u001b[39mif\u001b[39;00m \u001b[39m\"\u001b[39m\u001b[39mvector\u001b[39m\u001b[39m\"\u001b[39m \u001b[39mnot\u001b[39;00m \u001b[39min\u001b[39;00m \u001b[39mself\u001b[39m\u001b[39m.\u001b[39mvalue_type():\n\u001b[0;32m--> <a href='file:///home/louis/.local/share/virtualenvs/criminal_network_analysis-7tqkjw2s/lib/python3.8/site-packages/graph_tool/__init__.py?line=654'>655</a>\u001b[0m     \u001b[39mif\u001b[39;00m \u001b[39mlen\u001b[39m(a\u001b[39m.\u001b[39;49mshape) \u001b[39m!=\u001b[39m \u001b[39m1\u001b[39m:\n\u001b[1;32m    <a href='file:///home/louis/.local/share/virtualenvs/criminal_network_analysis-7tqkjw2s/lib/python3.8/site-packages/graph_tool/__init__.py?line=655'>656</a>\u001b[0m         \u001b[39mraise\u001b[39;00m \u001b[39mValueError\u001b[39;00m(\u001b[39m\"\u001b[39m\u001b[39mCannot set array of shape \u001b[39m\u001b[39m%s\u001b[39;00m\u001b[39m to non-vector property map of type \u001b[39m\u001b[39m%s\u001b[39;00m\u001b[39m\"\u001b[39m \u001b[39m%\u001b[39m \\\n\u001b[1;32m    <a href='file:///home/louis/.local/share/virtualenvs/criminal_network_analysis-7tqkjw2s/lib/python3.8/site-packages/graph_tool/__init__.py?line=656'>657</a>\u001b[0m                          (\u001b[39mstr\u001b[39m(a\u001b[39m.\u001b[39mshape), \u001b[39mself\u001b[39m\u001b[39m.\u001b[39mvalue_type()))\n\u001b[1;32m    <a href='file:///home/louis/.local/share/virtualenvs/criminal_network_analysis-7tqkjw2s/lib/python3.8/site-packages/graph_tool/__init__.py?line=657'>658</a>\u001b[0m     \u001b[39mif\u001b[39;00m \u001b[39mself\u001b[39m\u001b[39m.\u001b[39mvalue_type() \u001b[39m!=\u001b[39m \u001b[39m\"\u001b[39m\u001b[39mstring\u001b[39m\u001b[39m\"\u001b[39m:\n",
      "\u001b[0;31mAttributeError\u001b[0m: 'range' object has no attribute 'shape'"
     ]
    }
   ],
   "source": [
    "print(meta_sim.network.vp.state.set_2d_array(range(0, meta_sim.network.num_vertices())))"
   ]
  },
  {
   "cell_type": "markdown",
   "metadata": {},
   "source": [
    "---\n",
    "Test random function speed"
   ]
  },
  {
   "cell_type": "code",
   "execution_count": 18,
   "metadata": {},
   "outputs": [
    {
     "name": "stderr",
     "output_type": "stream",
     "text": [
      "/home/louis/.cache/ipython/cython/_cython_magic_a37ebee98fab96055e5dc2f343572a79.c:1240:18: warning: ‘__pyx_f_46_cython_magic_a37ebee98fab96055e5dc2f343572a79_rando’ defined but not used [-Wunused-function]\n",
      " 1240 | static PyObject *__pyx_f_46_cython_magic_a37ebee98fab96055e5dc2f343572a79_rando(int __pyx_v_min_range, int __pyx_v_max_range, int __pyx_v_size) {\n",
      "      |                  ^~~~~~~~~~~~~~~~~~~~~~~~~~~~~~~~~~~~~~~~~~~~~~~~~~~~~~~~~~~~~~\n"
     ]
    }
   ],
   "source": [
    "%%cython\n",
    "import random\n",
    "cdef rando(int min_range,int max_range,int size):\n",
    "    cdef: \n",
    "        list a\n",
    "        \n",
    "    a = []\n",
    "    for _ in range(size):\n",
    "        a.append(random.randint(min_range,max_range))\n",
    "    return a"
   ]
  },
  {
   "cell_type": "code",
   "execution_count": 11,
   "metadata": {},
   "outputs": [
    {
     "name": "stdout",
     "output_type": "stream",
     "text": [
      "333 ns ± 16.5 ns per loop (mean ± std. dev. of 7 runs, 1,000,000 loops each)\n",
      "77.7 ns ± 1.22 ns per loop (mean ± std. dev. of 7 runs, 10,000,000 loops each)\n",
      "__\n",
      "7.1 ms ± 554 µs per loop (mean ± std. dev. of 7 runs, 100 loops each)\n",
      "522 µs ± 2.61 µs per loop (mean ± std. dev. of 7 runs, 1,000 loops each)\n",
      "___\n",
      "85 µs ± 4.89 µs per loop (mean ± std. dev. of 7 runs, 10,000 loops each)\n",
      "2.66 ms ± 61.9 µs per loop (mean ± std. dev. of 7 runs, 100 loops each)\n",
      "__\n",
      "26.5 µs ± 766 ns per loop (mean ± std. dev. of 7 runs, 10,000 loops each)\n",
      "824 µs ± 29.7 µs per loop (mean ± std. dev. of 7 runs, 1,000 loops each)\n",
      "__\n",
      "89.6 ns ± 9.16 ns per loop (mean ± std. dev. of 7 runs, 10,000,000 loops each)\n",
      "290 ns ± 51.1 ns per loop (mean ± std. dev. of 7 runs, 1,000,000 loops each)\n"
     ]
    }
   ],
   "source": [
    "%timeit np.random.rand()\n",
    "%timeit random.random()\n",
    "\n",
    "print(\"__\")\n",
    "rand_list = list(np.random.random(100000))\n",
    "%timeit np.random.choice(rand_list, 1000,replace=False)\n",
    "%timeit random.sample(rand_list,k=1000)\n",
    "\n",
    "print(\"___\")\n",
    "size = 100000\n",
    "%timeit np.random.rand(10000)\n",
    "%timeit [random.uniform(0,1) for i in range(10000)]\n",
    "\n",
    "\n",
    "print(\"__\")\n",
    "network_size = 10000\n",
    "size = 1000\n",
    "%timeit np.random.randint(network_size, size=size)\n",
    "%timeit [random.randint(0,network_size) for _ in range(size)]\n",
    "\n",
    "print(\"__\")\n",
    "%timeit random.random()\n",
    "%timeit random.uniform(0,1)"
   ]
  }
 ],
 "metadata": {
  "kernelspec": {
   "display_name": "Python 3.8.10 ('criminal_network_analysis-7tqkjw2s')",
   "language": "python",
   "name": "python3"
  },
  "language_info": {
   "codemirror_mode": {
    "name": "ipython",
    "version": 3
   },
   "file_extension": ".py",
   "mimetype": "text/x-python",
   "name": "python",
   "nbconvert_exporter": "python",
   "pygments_lexer": "ipython3",
   "version": "3.8.10"
  },
  "vscode": {
   "interpreter": {
    "hash": "1fe4aacc162c68fa2b6d9d553bee24a2593cf30c4dc606bf8c91e878b2bbb459"
   }
  }
 },
 "nbformat": 4,
 "nbformat_minor": 2
}
